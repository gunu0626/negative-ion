{
 "cells": [
  {
   "cell_type": "markdown",
   "metadata": {},
   "source": [
    "#### Fitting method for electronegative plasma\n",
    "<hr/>\n",
    "\n",
    "Control Variables : <font color = 'sky blue'> $n_e,n_+,n_-,T_e, T_+,T_-, m_+,m_-$ </font>\n",
    "\n",
    "\n",
    "<font size=\"2\">\n",
    "    [1] <a href=\"https://aip.scitation.org/doi/10.1063/1.4802252\"> [2013] Langmuir probe analysis of highly electronegative plasmas</a> <br>\n",
    "    [2] <a href=\"https://doi.org/10.1063/1.4903328\"> [2014] Langmuir probe analysis in electronegative plasmas</a> <br><br>\n",
    "<hr/>\n",
    "\n",
    "Number of control variables can be reduced by set $m_+,m_-$ and $n_+ =n_e+n_-$. We just need 5 variables for fitting<br>\n",
    "Ion composition setup : $SF_5^+,SF_5^-$ and m=127 AMU<br>\n",
    "Fitting error within 5%\n",
    "\n",
    "<hr/>"
   ]
  },
  {
   "cell_type": "markdown",
   "metadata": {},
   "source": [
    "Import Modules"
   ]
  },
  {
   "cell_type": "code",
   "execution_count": 23,
   "metadata": {},
   "outputs": [],
   "source": [
    "import numpy as np\n",
    "from scipy.optimize import fsolve\n",
    "from scipy.integrate import odeint\n",
    "from scipy.interpolate import interp1d\n",
    "from setup import *"
   ]
  },
  {
   "cell_type": "markdown",
   "metadata": {},
   "source": [
    "Probe Setup & Ion Mass"
   ]
  },
  {
   "cell_type": "code",
   "execution_count": 24,
   "metadata": {},
   "outputs": [
    {
     "name": "stdout",
     "output_type": "stream",
     "text": [
      "\u001b[94m\tProbe Setup\u001b[0m\n",
      "\tProbe Radius : \u001b[31m0.025\u001b[0m [mm]\n",
      "\tProbe Length : \u001b[31m6.000\u001b[0m [mm]\n",
      "\n",
      "\u001b[94m\tIon Mass\u001b[0m\n",
      "\tPositive : \u001b[31m127.0\u001b[0m [amu]\n",
      "\tNegative : \u001b[31m127.0\u001b[0m [amu]\n"
     ]
    }
   ],
   "source": [
    "print(\"\\033[94m\\tProbe Setup\\033[0m\")\n",
    "print(\"\\tProbe Radius : \\033[31m{:.3f}\\033[0m [mm]\\n\\tProbe Length : \\033[31m{:.3f}\\033[0m [mm]\\n\".format(PROBE_RADIUS*1e3,PROBE_LENGTH*1e3))\n",
    "print(\"\\033[94m\\tIon Mass\\033[0m\")\n",
    "print(\"\\tPositive : \\033[31m{}\\033[0m [amu]\\n\\tNegative : \\033[31m{}\\033[0m [amu]\".format(POSITIVE_ION_MASS/1.67e-27,NEGATIVE_ION_MASS/1.67e-27))"
   ]
  },
  {
   "cell_type": "markdown",
   "metadata": {},
   "source": [
    "Sheath Calculation"
   ]
  },
  {
   "cell_type": "code",
   "execution_count": 25,
   "metadata": {},
   "outputs": [],
   "source": [
    "def solve_alpha_s(Te, Tm, alpha_0):\n",
    "    return np.max(fsolve(lambda alpha_s : alpha_0 - alpha_s*np.exp(-1/2*(1 + alpha_s)/(1 + Te/Tm*alpha_s)*(1 - Te/Tm)) \\\n",
    "            ,np.logspace(-4, 2, 7)))\n",
    "\n",
    "def cylindrical_sheath(uB, J, V):\n",
    "    R = 20*PROBE_RADIUS\n",
    "    r_list = np.linspace(R, PROBE_RADIUS, 30000)\n",
    "    def fun2(y, r):\n",
    "        return [R*J/(r*EPSILON_0*y[1]) - y[0]/r, ELECTRON_CHARGE*y[0]/(POSITIVE_ION_MASS*y[1])]   # y는 E, u 로 이루어져있음\n",
    "\n",
    "    sol = odeint(fun2, y0=[0, uB], t=r_list)  # Sheath edge로 추정되는 부분에서 적분 시작\n",
    "    u = sol[:, 1]\n",
    "    E = sol[:, 0]\n",
    "    Va = np.sqrt(2*ELECTRON_CHARGE*V/POSITIVE_ION_MASS)\n",
    "    f_linear = interp1d(u, r_list)\n",
    "    return R - f_linear(Va)\n",
    "\n",
    "def planar_sheath(J, V):\n",
    "    r_sh = np.sqrt(4/9*EPSILON_0*np.sqrt(2*ELECTRON_CHARGE/POSITIVE_ION_MASS)*(abs(V))**1.5/J)\n",
    "    return r_sh\n",
    "\n",
    "def solve_Seff(V, n_e, n_m, Te, Tm, Vp, cylindrical=True):\n",
    "    n_p = n_e + n_m\n",
    "    a_s = solve_alpha_s(Te, Tm, n_m/n_e)\n",
    "    uBp = np.sqrt(ELECTRON_CHARGE*Te/POSITIVE_ION_MASS)*np.sqrt((1+a_s)/(1+Te/Tm*a_s))\n",
    "    J = H_FACTOR*n_p*ELECTRON_CHARGE*uBp\n",
    "\n",
    "    if cylindrical:\n",
    "        r_sh = cylindrical_sheath(uBp, J, abs(V-Vp)) + PROBE_RADIUS #r_sh calculation with cylindrical probe\n",
    "        return 2*np.pi*r_sh*PROBE_LENGTH + 2*np.pi*r_sh**2\n",
    "\n",
    "    else:\n",
    "        r_sh = planar_sheath(J, abs(V-Vp)) #r_sh calculation with planar probe\n",
    "        return np.pi*PROBE_RADIUS**2 + 2*np.pi*PROBE_RADIUS*r_sh"
   ]
  },
  {
   "cell_type": "markdown",
   "metadata": {},
   "source": [
    "Current Calculation"
   ]
  },
  {
   "cell_type": "code",
   "execution_count": null,
   "metadata": {},
   "outputs": [],
   "source": [
    "from setup import *\n",
    "from scipy.special import erfc\n",
    "\n",
    "def I_p(V, n_e, n_m, Te, Tp, Tm, Vp):\n",
    "    n_p = n_e + n_m\n",
    "    a_s = solve_alpha_s(Te, Tm, n_m/n_e)\n",
    "    uBp = np.sqrt(ELECTRON_CHARGE*Te/POSITIVE_ION_MASS)*np.sqrt((1+a_s)/(1+Te/Tm*a_s))\n",
    "    if Vp > V:\n",
    "        I_Vp = H_FACTOR*n_p*ELECTRON_CHARGE*uBp*solve_Seff(Vp, n_e, n_m, Te, Tm, Vp)\n",
    "        I = 2*I_Vp - H_FACTOR*n_p*ELECTRON_CHARGE*uBp*solve_Seff(V, n_e, n_m, Te, Tm, Vp)\n",
    "    else:\n",
    "        I_Vp = H_FACTOR*n_p*ELECTRON_CHARGE*uBp*solve_Seff(V, n_e, n_m, Te, Tm, Vp)\n",
    "        I = I_Vp*np.exp(-(V-Vp)/Tp)\n",
    "    return I\n",
    "    \n",
    "def I_e(V, n_e, Te, Vp):\n",
    "    ve = np.sqrt(8*ELECTRON_CHARGE*Te/np.pi/ELECTRON_MASS)\n",
    "    if Vp > V:\n",
    "        I = ELECTRON_CHARGE*PROBE_AREA*n_e*ve/4*np.exp(-(Vp - V)/Te)\n",
    "    else:\n",
    "        I = ELECTRON_CHARGE*PROBE_AREA*n_e*ve/2*(2*np.sqrt((V-Vp)/Te/np.pi)+1/2*np.exp((V-Vp)/Te)*erfc((V-Vp)/Te))\n",
    "    return I\n",
    "    \n",
    "def I_n(V, n_e, n_m, Te, Tm, Vp):\n",
    "    uBn = np.sqrt(ELECTRON_CHARGE*Tm/NEGATIVE_ION_MASS)\n",
    "\n",
    "    if Vp > V:\n",
    "        I_Vp = H_FACTOR*n_m*ELECTRON_CHARGE*uBn*solve_Seff(V, n_e, n_m, Te, Tm, Vp) # Seff(V) function 만들기\n",
    "        I = I_Vp*np.exp(-(Vp - V)/Tm)\n",
    "        #print('I: {:.4e}'.format(I))\n",
    "    else:\n",
    "        I_Vp = H_FACTOR*n_m*ELECTRON_CHARGE*uBn*solve_Seff(Vp, n_e, n_m, Te, Tm, Vp)\n",
    "        I = 2*I_Vp - H_FACTOR*n_m*ELECTRON_CHARGE*uBn*solve_Seff(V, n_e, n_m, Te, Tm, Vp)\n",
    "        #print('I: {:.4e}'.format(I))\n",
    "    return I"
   ]
  }
 ],
 "metadata": {
  "interpreter": {
   "hash": "70f771d3bc6c150054e9839a714d038f9e349eb6984246b50653f4883bd59734"
  },
  "kernelspec": {
   "display_name": "Python 3.6.10 ('py_36')",
   "language": "python",
   "name": "python3"
  },
  "language_info": {
   "codemirror_mode": {
    "name": "ipython",
    "version": 3
   },
   "file_extension": ".py",
   "mimetype": "text/x-python",
   "name": "python",
   "nbconvert_exporter": "python",
   "pygments_lexer": "ipython3",
   "version": "3.6.10"
  },
  "orig_nbformat": 4
 },
 "nbformat": 4,
 "nbformat_minor": 2
}
