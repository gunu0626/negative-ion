{
 "cells": [
  {
   "cell_type": "markdown",
   "metadata": {},
   "source": [
    "## Fitting method"
   ]
  },
  {
   "cell_type": "markdown",
   "metadata": {},
   "source": [
    "## Control Variables : <font color = 'sky blue'> $n_e,n_+,n_-,T_e, T_+,T_-, m_+,m_-$ </font>\n",
    "<font size=\"2\">\n",
    "    [1] <a href=\"https://sci-hub.st/https://aip.scitation.org/doi/10.1063/1.4802252\"> [2013] Langmuir probe analysis of highly electronegative plasmas</a> <br>\n",
    "    [2] <a href=\"https://sci-hub.st/https://doi.org/10.1063/1.4903328\"> [2014] Langmuir probe analysis in electronegative plasmas</a> <br><br>\n",
    "    \n",
    "Number of control variables can be reduced by set $m_+,m_-$ and $n_+ =n_e+n_-$ <br>\n",
    "Ion composition setup : $SF_5^+,SF_5^-$ and m=127AMU<br>\n",
    "Fitting error within 5%"
   ]
  },
  {
   "cell_type": "code",
   "execution_count": 1,
   "metadata": {},
   "outputs": [],
   "source": [
    "import numpy as np\n",
    "from scipy.optimize import fsolve\n",
    "import matplotlib.pyplot as plt\n",
    "import ldf\n",
    "from scipy.special import erfc\n",
    "from scipy.integrate import odeint\n",
    "from scipy.interpolate import interp1d\n",
    "from scipy.optimize import curve_fit"
   ]
  },
  {
   "cell_type": "markdown",
   "metadata": {},
   "source": [
    "## Model Setup"
   ]
  },
  {
   "cell_type": "code",
   "execution_count": 2,
   "metadata": {},
   "outputs": [],
   "source": [
    "#######################\n",
    "## Physical Constant ##\n",
    "#######################\n",
    "e = 1.6e-19 # electron charge [C]\n",
    "epsilon_0 = 8.854e-12 # permittivity of vacuum [F/m]\n",
    "kB = 1.38e-23 #Bolzmann const [kg m2/s2/K]\n",
    "Mp = 32*1.67e-27 # mass of positive ion [kg] O2+\n",
    "Mn = 32*1.67e-27 # mass of negative ion [kg] O2-\n",
    "Me = 9.11e-31 # mass of electron [kg]\n",
    "hr = 0.6 # h-factor\n",
    "rp = 150e-6 # probe radius [m]\n",
    "lp = 10e-3 # probe length [m]\n",
    "Ap = 2*np.pi*lp*rp + 2*np.pi*rp**2 # probe surface area[m2]"
   ]
  },
  {
   "cell_type": "markdown",
   "metadata": {
    "tags": []
   },
   "source": [
    "## 계산될 Parameter"
   ]
  },
  {
   "cell_type": "code",
   "execution_count": 4,
   "metadata": {},
   "outputs": [],
   "source": [
    "def find_nearest(array, value):\n",
    "    array = np.asarray(array)\n",
    "    idx = (np.abs(array - value)).argmin()\n",
    "    return idx\n",
    "    \n",
    "def solve_as(Te, Tm, a_0):\n",
    "    def eqn21(a_s):\n",
    "        return a_0 - a_s*np.exp(-1/2*(1+a_s)/(1+Te/Tm*a_s)*(1-Te/Tm))\n",
    "    a_s = max(fsolve(eqn21,np.logspace(-4,2,7)))\n",
    "    return a_s\n",
    "\n",
    "def cylindrical_sheath(uB, J, V_probe):\n",
    "    R = 20*rp\n",
    "    r_list = np.linspace(R, rp, 20000)\n",
    "    def fun(y, r):\n",
    "        return [R*J/(r*epsilon_0*y[1]) - y[0]/r, e*y[0]/(Mp*y[1])]   # y는 E, u 로 이루어져있음\n",
    "\n",
    "    sol = odeint(fun, y0=[0, uB], t=r_list)  # Sheath edge로 추정되는 부분에서 적분 시작\n",
    "    u = sol[:, 1]\n",
    "    \n",
    "    r_sh = r_list[find_nearest(u, np.sqrt(2*e*V_probe/(Mp)))]\n",
    "    return r_sh\n",
    "\n",
    "def Seff(V, n_e, n_m, Te, Tm, Vp):\n",
    "    n_p = n_e + n_m\n",
    "    a_s = solve_as(Te, Tm, n_m/n_e)\n",
    "    uBp = np.sqrt(e*Te/Mp)*np.sqrt((1+a_s)/(1+Te/Tm*a_s))\n",
    "    J = hr*n_p*e*uBp\n",
    "    r_sh = cylindrical_sheath(uBp, J, abs(V-Vp))\n",
    "    #r_sh = np.sqrt(4/9*epsilon_0*np.sqrt(2*e/Me)*(abs(V-Vp))**1.5/J)\n",
    "    return 2*np.pi*r_sh*lp + 2*np.pi*r_sh**2\n",
    "    #return Ap\n",
    "\n",
    "#### 위 두개는 iterative class에서 상속받아 쓸거임\n",
    "\n",
    "def I_p(V, n_e, n_m, Te, Tp, Tm, Vp):\n",
    "    n_p = n_e + n_m\n",
    "    a_s = solve_as(Te, Tm, n_m/n_e)\n",
    "    uBp = np.sqrt(e*Te/Mp)*np.sqrt((1+a_s)/(1+Te/Tm*a_s))\n",
    "\n",
    "    if Vp > V:\n",
    "        I_Vp = hr*n_p*e*uBp*Seff(Vp, n_e, n_m, Te, Tm, Vp)\n",
    "        I = 2*I_Vp - hr*n_p*e*uBp*Seff(V, n_e, n_m, Te, Tm, Vp)\n",
    "    else:\n",
    "        I_Vp = hr*n_p*e*uBp*Seff(V, n_e, n_m, Te, Tm, Vp)\n",
    "        I = I_Vp*np.exp(-(V-Vp)/Tp)\n",
    "    return I\n",
    "    \n",
    "def I_e(V, n_e, Te, Vp):\n",
    "    ve = np.sqrt(8*e*Te/np.pi/Me)\n",
    "    \n",
    "    if Vp > V:\n",
    "        I = e*Ap*n_e*ve/4*np.exp(-(Vp - V)/Te)\n",
    "    else:\n",
    "        I = e*Ap*n_e*ve/2*(2*np.sqrt((V-Vp)/Te/np.pi)+1/2*np.exp((V-Vp)/Te)*erfc((V-Vp)/Te))\n",
    "    return I\n",
    "    \n",
    "def I_n(V, n_e, n_m, Te, Tm, Vp):\n",
    "    uBn = np.sqrt(e*Tm/Mn)\n",
    "\n",
    "    if Vp > V:\n",
    "        I_Vp = hr*n_m*e*uBn*Seff(V, n_e, n_m, Te, Tm, Vp) # Seff(V) function 만들기\n",
    "        I = I_Vp*np.exp(-(Vp - V)/Tm)\n",
    "        #print('I: {:.4e}'.format(I))\n",
    "    else:\n",
    "        I_Vp = hr*n_m*e*uBn*Seff(Vp, n_e, n_m, Te, Tm, Vp)\n",
    "        I = 2*I_Vp - hr*n_m*e*uBn*Seff(V, n_e, n_m, Te, Tm, Vp)\n",
    "        #print('I: {:.4e}'.format(I))\n",
    "    return I\n",
    "\n",
    "def total_current(V_input, ne, nm, Te, Tp, Tm):\n",
    "    I_list = []\n",
    "    for V in V_input:\n",
    "        I_list.append(-I_p(V, ne, nm, Te, Tp, Tm, Vp) + I_e(V, ne, Te, Vp) + I_n(V, ne, nm, Te, Tm, Vp))\n",
    "    return np.array(I_list)"
   ]
  },
  {
   "cell_type": "code",
   "execution_count": 5,
   "metadata": {},
   "outputs": [
    {
     "name": "stdout",
     "output_type": "stream",
     "text": [
      "./Test_Various Conditions_O2/86.1V0.3A160G5mTorr.ldf\n"
     ]
    }
   ],
   "source": [
    "data_iter, data_fit = [], []\n",
    "\n",
    "workDir = './Test_Various Conditions_O2/'\n",
    "x_type = 'Distance'\n",
    "parser = ldf.parser(workDir)\n",
    "ldf_list = parser.ldf_paths()\n",
    "\n",
    "for file in ldf_list:\n",
    "\n",
    "    # Check file name\n",
    "    print(file)\n",
    "\n",
    "    # Parsing IV curve from ldf file\n",
    "    IV, imported_eedf, result = parser.pull_attr(file, need_return=True)"
   ]
  },
  {
   "cell_type": "markdown",
   "metadata": {},
   "source": [
    "### Test for initial condition (margin applied)"
   ]
  },
  {
   "cell_type": "code",
   "execution_count": 35,
   "metadata": {
    "jp-MarkdownHeadingCollapsed": true,
    "tags": []
   },
   "outputs": [],
   "source": [
    "Vp = -3.4\n",
    "margin = 2\n",
    "\n",
    "ne = 2e15\n",
    "nm = 2e15\n",
    "Te = 1.2\n",
    "Tp = 0.1\n",
    "Tm = 0.1"
   ]
  },
  {
   "cell_type": "code",
   "execution_count": 36,
   "metadata": {},
   "outputs": [
    {
     "name": "stderr",
     "output_type": "stream",
     "text": [
      "c:\\Users\\GUNU\\anaconda3\\envs\\pyrl\\lib\\site-packages\\scipy\\optimize\\minpack.py:175: RuntimeWarning: The iteration is not making good progress, as measured by the \n",
      "  improvement from the last ten iterations.\n",
      "  warnings.warn(msg, RuntimeWarning)\n"
     ]
    },
    {
     "data": {
      "image/png": "[encoded data removed]",
      "text/plain": [
       "<Figure size 576x432 with 1 Axes>"
      ]
     },
     "metadata": {
      "needs_background": "light"
     },
     "output_type": "display_data"
    }
   ],
   "source": [
    "V_list = np.array(IV['V'])\n",
    "I_list = np.array(IV['I'])\n",
    "\n",
    "I_list = I_list[V_list < (Vp + margin)]\n",
    "V_list = V_list[V_list < (Vp + margin)]\n",
    "I_list = I_list[V_list > (Vp - margin)]\n",
    "V_list = V_list[V_list > (Vp - margin)]\n",
    "\n",
    "plt.figure(figsize=(8,6))\n",
    "plt.plot(V_list, total_current(V_list, ne, nm, Te, Tp, Tm))\n",
    "plt.plot(V_list, I_list)\n",
    "plt.legend(['initial guess', 'exp'])\n",
    "plt.title('Margin : {}V \\n Data points : {}'.format(margin, len(V_list)))\n",
    "plt.show()"
   ]
  },
  {
   "cell_type": "code",
   "execution_count": 37,
   "metadata": {},
   "outputs": [
    {
     "name": "stderr",
     "output_type": "stream",
     "text": [
      "c:\\Users\\GUNU\\anaconda3\\envs\\pyrl\\lib\\site-packages\\scipy\\optimize\\minpack.py:175: RuntimeWarning: The iteration is not making good progress, as measured by the \n",
      "  improvement from the last ten iterations.\n",
      "  warnings.warn(msg, RuntimeWarning)\n"
     ]
    }
   ],
   "source": [
    "#popt, pcov = curve_fit(total_current, V_list, I_list, p0=(1.5e13, 1e15, 2, 0.2, 0.2, 6), bounds=([-np.inf, -np.inf, 0, 0, 0, -100], [np.inf, np.inf, 10, 0.5, 0.5, 100]), method='trf')\n",
    "#popt, pcov = curve_fit(total_current, V_list, I_list, p0=(1.16e15, 5.56e15, 1.28, 0.2, 0.2)) # ne, nm, Te, Tp, Tm\n",
    "popt, pcov = curve_fit(total_current, V_list, I_list, p0=(ne, nm, Te, Tp, Tm), bounds=([1e13, 1e13, 0, 0, 0], [1e16, 1e16, 5, 0.3, 0.3]), method='trf') # ne, nm, Te, Tp, Tm"
   ]
  },
  {
   "cell_type": "code",
   "execution_count": 38,
   "metadata": {},
   "outputs": [
    {
     "name": "stdout",
     "output_type": "stream",
     "text": [
      "Initial Guess  : 2.00e+15 2.00e+15 1.20e+00 1.00e-01 1.00e-01 \n",
      "Fitting Result : 1.60e+15 8.44e+14 4.73e-01 2.89e-01 2.20e-02 \n"
     ]
    }
   ],
   "source": [
    "ne1, nm1, Te1, Tp1, Tm1 = popt\n",
    "print(\"Initial Guess  : {:.2e} {:.2e} {:.2e} {:.2e} {:.2e} \".format(ne, nm, Te, Tp, Tm))\n",
    "print(\"Fitting Result : {:.2e} {:.2e} {:.2e} {:.2e} {:.2e} \".format(ne1, nm1, Te1, Tp1, Tm1))\n",
    "I_fitting_list = total_current(V_list, ne1, nm1, Te1, Tp1, Tm1)\n",
    "error = np.average(abs((I_list - I_fitting_list)/I_list))*100"
   ]
  },
  {
   "cell_type": "code",
   "execution_count": 39,
   "metadata": {},
   "outputs": [
    {
     "data": {
      "image/png": "[encoded data removed]",
      "text/plain": [
       "<Figure size 432x288 with 1 Axes>"
      ]
     },
     "metadata": {
      "needs_background": "light"
     },
     "output_type": "display_data"
    }
   ],
   "source": [
    "plt.plot(V_list, I_list)\n",
    "plt.plot(V_list, I_fitting_list)\n",
    "plt.legend(['exp', 'fitting'])\n",
    "plt.text(V_list[0],0, 'Average Error : {:.3f}%'.format(error), fontsize=10, color='red')\n",
    "plt.show()"
   ]
  },
  {
   "cell_type": "code",
   "execution_count": null,
   "metadata": {},
   "outputs": [],
   "source": []
  }
 ],
 "metadata": {
  "interpreter": {
   "hash": "23fe39cfc12d6078beb762b4df842d8f9a519c683c234660710b9efae2925be1"
  },
  "kernelspec": {
   "display_name": "Python 3.8.11 ('pyrl')",
   "language": "python",
   "name": "python3"
  },
  "language_info": {
   "codemirror_mode": {
    "name": "ipython",
    "version": 3
   },
   "file_extension": ".py",
   "mimetype": "text/x-python",
   "name": "python",
   "nbconvert_exporter": "python",
   "pygments_lexer": "ipython3",
   "version": "3.8.11"
  }
 },
 "nbformat": 4,
 "nbformat_minor": 4
}
