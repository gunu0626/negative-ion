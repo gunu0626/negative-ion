{
 "cells": [
  {
   "cell_type": "markdown",
   "metadata": {
    "tags": []
   },
   "source": [
    "## Constant from IV-characteristics : <font color = 'sky blue'> $n_e, T_e, T_-, I_{sat+}$ </font>\n",
    "<font size=\"2\">\n",
    "    [1] <a href=\"https://sci-hub.st/https://aip.scitation.org/doi/10.1063/1.4802252\"> [2013] Langmuir probe analysis of highly electronegative plasmas</a> <br>\n",
    "    [2] <a href=\"https://sci-hub.st/https://doi.org/10.1063/1.4903328\"> [2014] Langmuir probe analysis in electronegative plasmas</a> <br>\n",
    "    [3] <a href=\"https://sci-hub.st/https://doi.org/10.1063/1.874162\"> [2000] How big is a small Langmuir probe?</a> <br>\n",
    "    [4] <a href=\"https://sci-hub.st/10.1088/0022-3727/43/10/105204\"> [2010] The plasma sheath around large discs and ion collection by planar Langmuir probes</a> <br>"
   ]
  },
  {
   "cell_type": "code",
   "execution_count": 1,
   "metadata": {},
   "outputs": [],
   "source": [
    "import numpy as np\n",
    "from scipy.optimize import fsolve\n",
    "import xml.etree.ElementTree as ET\n",
    "import os\n",
    "import matplotlib.pyplot as plt\n",
    "import ldfparser\n",
    "from scipy.integrate import solve_ivp"
   ]
  },
  {
   "cell_type": "code",
   "execution_count": 2,
   "metadata": {},
   "outputs": [],
   "source": [
    "#######################\n",
    "## Physical Constant ##\n",
    "#######################\n",
    "e = 1.6e-19 # electron charge [C]\n",
    "epsilon_0 = 8.854e-12 # permittivity of vacuum [F/m]\n",
    "kB = 1.38e-23 #Bolzmann const [kg m2/s2/K]\n",
    "mp = 146*1.67e-27 # mass of positive ion [kg] SF6\n",
    "Tm = 0.1 # Negative ion temperature [eV]\n",
    "hr = 0.6 # h-factor\n",
    "rp = 0.1e-3 # probe radius [m]\n",
    "lp = 5.5e-3 # probe length [m]"
   ]
  },
  {
   "cell_type": "code",
   "execution_count": 3,
   "metadata": {},
   "outputs": [],
   "source": [
    "class Iterative_method():\n",
    "    def __init__(self, ne, Te, V_sat, I_sat, V_p):\n",
    "        self.ne = ne\n",
    "        self.Te = Te\n",
    "        self.V_sat = V_sat\n",
    "        self.I_sat = I_sat\n",
    "        self.gamma = self.Te/Tm\n",
    "        self.V_p = V_p\n",
    "        self.De = np.sqrt(epsilon_0*kB*Te/(e**2*ne)) #electron debye length\n",
    "        #print(\"ne : {:.2e}, Te : {}, V_sat : {}, I_sat : {:.2e}\".format(ne,Te,V_sat,I_sat))\n",
    "        \n",
    "    def alpha_convert(self,a_0):\n",
    "        def eqn21(a_s):\n",
    "            return a_0 - a_s*np.exp(-1/2*(1+a_s)/(1+self.gamma*a_s)*(1-self.gamma))\n",
    "        ans_arr = np.round(fsolve(eqn21,np.logspace(-2,2,5)),4)\n",
    "        ans_arr = np.unique(ans_arr)\n",
    "        a_s = min(ans_arr)\n",
    "        print(\"a_0: {:.4f}\\t a_s: {}\\t gamma: {:.4f}\\t sol_number: {}\".format(a_0, a_s, self.gamma, len(ans_arr)))\n",
    "        return a_s\n",
    "    \n",
    "    def modified_Bohm(self,a_s):\n",
    "        uB = np.sqrt(e*self.Te/mp)*np.sqrt((1+a_s)/(1+self.gamma*a_s))\n",
    "        return uB\n",
    "    \n",
    "    def r_sh_calculation(self, J): \n",
    "            r_sh = np.sqrt(4/9*epsilon_0*np.sqrt(2*e/mp)*(self.V_sat - self.V_p)**1.5/J)\n",
    "            #r_sh = rp\n",
    "            return r_sh\n",
    "            \n",
    "    def iteration(self):\n",
    "        #print(\"ne : {:.2e}, Te : {}, V_sat : {}, I_sat : {:.2e}\".format(self.ne,self.Te,self.V_sat,self.I_sat))\n",
    "        count = 0\n",
    "        a_0 = 3\n",
    "        r_sh_0 = rp\n",
    "        pi = 3.141592653589793\n",
    "        S_eff = 2*(pi)*r_sh_0*lp\n",
    "        \n",
    "        while True:\n",
    "            MAX_COUNT = 100\n",
    "            count += 1\n",
    "            a_s = self.alpha_convert(a_0)\n",
    "            uB = self.modified_Bohm(a_s) # uB_k\n",
    "            np = self.I_sat/(hr*S_eff*e*uB) # np_k , S_k-1\n",
    "            comp = a_0 # for loop condition\n",
    "            a_0 = np/self.ne-1 # a_0_k\n",
    "            J = hr*e*np*uB # J_k\n",
    "            r_sh = self.r_sh_calculation(J) #r_sh_k\n",
    "            S_eff = 2*pi*r_sh*lp\n",
    "            \n",
    "            #print(count, a_0)\n",
    "            \n",
    "            if abs(comp - a_0) < 0.001*a_0:\n",
    "                return a_0\n",
    "                break\n",
    "            if count == MAX_COUNT:\n",
    "                print('-----------No Convergence!---------------------')\n",
    "                break\n",
    "        print('--------------------------------------------------')"
   ]
  },
  {
   "cell_type": "code",
   "execution_count": 6,
   "metadata": {},
   "outputs": [],
   "source": [
    "workDir = './211216(SF6)/bias (float) 56mm B-field/'\n",
    "parser = ldfparser.LDF(workDir)"
   ]
  },
  {
   "cell_type": "code",
   "execution_count": 7,
   "metadata": {},
   "outputs": [
    {
     "data": {
      "image/png": "[encoded data removed]",
      "text/plain": [
       "<Figure size 432x288 with 1 Axes>"
      ]
     },
     "metadata": {
      "needs_background": "light"
     },
     "output_type": "display_data"
    }
   ],
   "source": [
    "gamma = 50\n",
    "a_s = np.logspace(-4,2,100)\n",
    "plt.plot(a_s*np.exp(-1/2*(1+a_s)/(1+gamma*a_s)*(1-gamma)),a_s)\n",
    "plt.xlabel(r'$\\alpha_0$')\n",
    "plt.ylabel(r'$\\alpha_s$')\n",
    "plt.title(r'$\\gamma={}$'.format(gamma))\n",
    "plt.yscale('log')\n",
    "plt.xscale('log')"
   ]
  },
  {
   "cell_type": "code",
   "execution_count": 8,
   "metadata": {
    "tags": []
   },
   "outputs": [
    {
     "name": "stdout",
     "output_type": "stream",
     "text": [
      "./211216(SF6)/bias (float) 56mm B-field/100.ldf\n",
      "a_0: 3.0000\t a_s: 0.1825\t gamma: 42.1908\t sol_number: 2\n",
      "a_0: 46.3905\t a_s: 0.0518\t gamma: 42.1908\t sol_number: 2\n",
      "a_0: 28.9926\t a_s: 0.06\t gamma: 42.1908\t sol_number: 2\n",
      "a_0: 30.2425\t a_s: 0.0592\t gamma: 42.1908\t sol_number: 2\n",
      "a_0: 29.9983\t a_s: 0.0594\t gamma: 42.1908\t sol_number: 2\n",
      "Vp: 4.26674, Vsat: 41.8039, Isat: 0.000348615, Ni: 3.39684e+17\n",
      "\n",
      "\n",
      "./211216(SF6)/bias (float) 56mm B-field/110.ldf\n",
      "a_0: 3.0000\t a_s: 0.1772\t gamma: 39.1342\t sol_number: 2\n",
      "a_0: 46.7898\t a_s: 0.0489\t gamma: 39.1342\t sol_number: 2\n",
      "a_0: 29.6420\t a_s: 0.0567\t gamma: 39.1342\t sol_number: 2\n",
      "a_0: 31.0683\t a_s: 0.0558\t gamma: 39.1342\t sol_number: 2\n",
      "a_0: 30.8962\t a_s: 0.0559\t gamma: 39.1342\t sol_number: 2\n",
      "Vp: 4.00878, Vsat: 41.7765, Isat: 0.000360706, Ni: 3.45081e+17\n",
      "\n",
      "\n",
      "./211216(SF6)/bias (float) 56mm B-field/120.ldf\n",
      "a_0: 3.0000\t a_s: 0.1747\t gamma: 37.8616\t sol_number: 2\n",
      "a_0: 46.6841\t a_s: 0.0476\t gamma: 37.8616\t sol_number: 2\n",
      "a_0: 29.7799\t a_s: 0.0553\t gamma: 37.8616\t sol_number: 2\n",
      "a_0: 31.3010\t a_s: 0.0543\t gamma: 37.8616\t sol_number: 2\n",
      "a_0: 31.1567\t a_s: 0.0544\t gamma: 37.8616\t sol_number: 2\n",
      "a_0: 31.1945\t a_s: 0.0544\t gamma: 37.8616\t sol_number: 2\n",
      "Vp: 3.85663, Vsat: 41.7182, Isat: 0.000366461, Ni: 3.47101e+17\n",
      "\n",
      "\n",
      "./211216(SF6)/bias (float) 56mm B-field/130.ldf\n",
      "a_0: 3.0000\t a_s: 0.175\t gamma: 37.9878\t sol_number: 2\n",
      "a_0: 47.4331\t a_s: 0.0475\t gamma: 37.9878\t sol_number: 2\n",
      "a_0: 30.2839\t a_s: 0.0551\t gamma: 37.9878\t sol_number: 2\n",
      "a_0: 31.8526\t a_s: 0.0542\t gamma: 37.9878\t sol_number: 2\n",
      "a_0: 31.7426\t a_s: 0.0542\t gamma: 37.9878\t sol_number: 2\n",
      "Vp: 3.71606, Vsat: 41.703, Isat: 0.000369965, Ni: 3.47839e+17\n",
      "\n",
      "\n",
      "./211216(SF6)/bias (float) 56mm B-field/135.ldf\n",
      "a_0: 3.0000\t a_s: 0.1737\t gamma: 37.3770\t sol_number: 2\n",
      "a_0: 47.5044\t a_s: 0.0468\t gamma: 37.3770\t sol_number: 2\n",
      "a_0: 30.4099\t a_s: 0.0543\t gamma: 37.3770\t sol_number: 2\n",
      "a_0: 32.0119\t a_s: 0.0534\t gamma: 37.3770\t sol_number: 2\n",
      "a_0: 31.9205\t a_s: 0.0534\t gamma: 37.3770\t sol_number: 2\n",
      "a_0: 31.9598\t a_s: 0.0534\t gamma: 37.3770\t sol_number: 2\n",
      "Vp: 3.66101, Vsat: 41.6673, Isat: 0.000372054, Ni: 3.47137e+17\n",
      "\n",
      "\n",
      "./211216(SF6)/bias (float) 56mm B-field/40.ldf\n",
      "a_0: 3.0000\t a_s: 0.2077\t gamma: 66.5438\t sol_number: 2\n",
      "a_0: 72.5243\t a_s: 0.0581\t gamma: 66.5438\t sol_number: 2\n",
      "a_0: 40.6771\t a_s: 0.067\t gamma: 66.5438\t sol_number: 2\n",
      "a_0: 41.2977\t a_s: 0.0667\t gamma: 66.5438\t sol_number: 2\n",
      "a_0: 40.4220\t a_s: 0.0671\t gamma: 66.5438\t sol_number: 2\n",
      "a_0: 40.1183\t a_s: 0.0672\t gamma: 66.5438\t sol_number: 2\n",
      "a_0: 39.9441\t a_s: 0.0673\t gamma: 66.5438\t sol_number: 2\n",
      "a_0: 39.8687\t a_s: 0.0673\t gamma: 66.5438\t sol_number: 2\n",
      "a_0: 39.8196\t a_s: 0.0673\t gamma: 66.5438\t sol_number: 2\n",
      "Vp: 9.71818, Vsat: 42.1611, Isat: 0.000246839, Ni: 2.83891e+17\n",
      "\n",
      "\n",
      "./211216(SF6)/bias (float) 56mm B-field/50.ldf\n",
      "a_0: 3.0000\t a_s: 0.2023\t gamma: 59.3151\t sol_number: 2\n",
      "a_0: 64.6754\t a_s: 0.057\t gamma: 59.3151\t sol_number: 2\n",
      "a_0: 34.7640\t a_s: 0.0671\t gamma: 59.3151\t sol_number: 2\n",
      "a_0: 34.5909\t a_s: 0.0671\t gamma: 59.3151\t sol_number: 2\n",
      "a_0: 33.4669\t a_s: 0.0678\t gamma: 59.3151\t sol_number: 2\n",
      "a_0: 33.0482\t a_s: 0.068\t gamma: 59.3151\t sol_number: 2\n",
      "a_0: 32.8129\t a_s: 0.0681\t gamma: 59.3151\t sol_number: 2\n",
      "a_0: 32.6957\t a_s: 0.0682\t gamma: 59.3151\t sol_number: 2\n",
      "a_0: 32.6464\t a_s: 0.0682\t gamma: 59.3151\t sol_number: 2\n",
      "a_0: 32.6127\t a_s: 0.0683\t gamma: 59.3151\t sol_number: 2\n",
      "Vp: 6.34372, Vsat: 42.0184, Isat: 0.000256794, Ni: 3.02742e+17\n",
      "\n",
      "\n",
      "./211216(SF6)/bias (float) 56mm B-field/60.ldf\n",
      "a_0: 3.0000\t a_s: 0.1981\t gamma: 54.6560\t sol_number: 2\n",
      "a_0: 57.8092\t a_s: 0.0565\t gamma: 54.6560\t sol_number: 2\n",
      "a_0: 32.3312\t a_s: 0.0662\t gamma: 54.6560\t sol_number: 2\n",
      "a_0: 32.5533\t a_s: 0.0661\t gamma: 54.6560\t sol_number: 2\n",
      "a_0: 31.7110\t a_s: 0.0666\t gamma: 54.6560\t sol_number: 2\n",
      "a_0: 31.3946\t a_s: 0.0668\t gamma: 54.6560\t sol_number: 2\n",
      "a_0: 31.2286\t a_s: 0.0669\t gamma: 54.6560\t sol_number: 2\n",
      "a_0: 31.1459\t a_s: 0.067\t gamma: 54.6560\t sol_number: 2\n",
      "a_0: 31.1133\t a_s: 0.067\t gamma: 54.6560\t sol_number: 2\n",
      "Vp: 5.30804, Vsat: 42.0374, Isat: 0.000284197, Ni: 3.18937e+17\n",
      "\n",
      "\n",
      "./211216(SF6)/bias (float) 56mm B-field/70.ldf\n",
      "a_0: 3.0000\t a_s: 0.1943\t gamma: 50.9851\t sol_number: 2\n",
      "a_0: 52.4371\t a_s: 0.0561\t gamma: 50.9851\t sol_number: 2\n",
      "a_0: 30.5203\t a_s: 0.0654\t gamma: 50.9851\t sol_number: 2\n",
      "a_0: 31.1094\t a_s: 0.065\t gamma: 50.9851\t sol_number: 2\n",
      "a_0: 30.4835\t a_s: 0.0654\t gamma: 50.9851\t sol_number: 2\n",
      "a_0: 30.2768\t a_s: 0.0655\t gamma: 50.9851\t sol_number: 2\n",
      "a_0: 30.1570\t a_s: 0.0656\t gamma: 50.9851\t sol_number: 2\n",
      "a_0: 30.1057\t a_s: 0.0656\t gamma: 50.9851\t sol_number: 2\n",
      "a_0: 30.0717\t a_s: 0.0656\t gamma: 50.9851\t sol_number: 2\n",
      "Vp: 4.87553, Vsat: 42.0041, Isat: 0.000306375, Ni: 3.27069e+17\n",
      "\n",
      "\n",
      "./211216(SF6)/bias (float) 56mm B-field/80.ldf\n",
      "a_0: 3.0000\t a_s: 0.191\t gamma: 48.1977\t sol_number: 2\n",
      "a_0: 48.9152\t a_s: 0.0554\t gamma: 48.1977\t sol_number: 2\n",
      "a_0: 29.2791\t a_s: 0.0644\t gamma: 48.1977\t sol_number: 2\n",
      "a_0: 30.1120\t a_s: 0.0639\t gamma: 48.1977\t sol_number: 2\n",
      "a_0: 29.6505\t a_s: 0.0642\t gamma: 48.1977\t sol_number: 2\n",
      "a_0: 29.5132\t a_s: 0.0643\t gamma: 48.1977\t sol_number: 2\n",
      "a_0: 29.4364\t a_s: 0.0643\t gamma: 48.1977\t sol_number: 2\n",
      "a_0: 29.3899\t a_s: 0.0643\t gamma: 48.1977\t sol_number: 2\n",
      "Vp: 4.67583, Vsat: 41.9365, Isat: 0.000321294, Ni: 3.30439e+17\n",
      "\n",
      "\n",
      "./211216(SF6)/bias (float) 56mm B-field/90.ldf\n",
      "a_0: 3.0000\t a_s: 0.1876\t gamma: 45.6184\t sol_number: 2\n",
      "a_0: 46.8526\t a_s: 0.0544\t gamma: 45.6184\t sol_number: 2\n",
      "a_0: 28.8441\t a_s: 0.0629\t gamma: 45.6184\t sol_number: 2\n",
      "a_0: 29.9207\t a_s: 0.01\t gamma: 45.6184\t sol_number: 5\n",
      "a_0: 18.3297\t a_s: 0.0731\t gamma: 45.6184\t sol_number: 2\n",
      "a_0: 31.2469\t a_s: 0.0614\t gamma: 45.6184\t sol_number: 2\n",
      "a_0: 29.3118\t a_s: 0.01\t gamma: 45.6184\t sol_number: 5\n",
      "a_0: 18.2172\t a_s: 0.0732\t gamma: 45.6184\t sol_number: 2\n",
      "a_0: 31.1684\t a_s: 0.0614\t gamma: 45.6184\t sol_number: 2\n",
      "a_0: 29.2676\t a_s: 0.01\t gamma: 45.6184\t sol_number: 5\n",
      "a_0: 18.2032\t a_s: 0.0732\t gamma: 45.6184\t sol_number: 2\n",
      "a_0: 31.1567\t a_s: 0.0614\t gamma: 45.6184\t sol_number: 2\n",
      "a_0: 29.2621\t a_s: 0.01\t gamma: 45.6184\t sol_number: 5\n",
      "a_0: 18.2014\t a_s: 0.0732\t gamma: 45.6184\t sol_number: 2\n",
      "a_0: 31.1552\t a_s: 0.0614\t gamma: 45.6184\t sol_number: 2\n",
      "a_0: 29.2614\t a_s: 0.01\t gamma: 45.6184\t sol_number: 5\n",
      "a_0: 18.2012\t a_s: 0.0732\t gamma: 45.6184\t sol_number: 2\n",
      "a_0: 31.1550\t a_s: 0.0614\t gamma: 45.6184\t sol_number: 2\n",
      "a_0: 29.2613\t a_s: 0.01\t gamma: 45.6184\t sol_number: 5\n",
      "a_0: 18.2012\t a_s: 0.0732\t gamma: 45.6184\t sol_number: 2\n",
      "a_0: 31.1550\t a_s: 0.0614\t gamma: 45.6184\t sol_number: 2\n",
      "a_0: 29.2613\t a_s: 0.01\t gamma: 45.6184\t sol_number: 5\n",
      "a_0: 18.2012\t a_s: 0.0732\t gamma: 45.6184\t sol_number: 2\n",
      "a_0: 31.1550\t a_s: 0.0614\t gamma: 45.6184\t sol_number: 2\n",
      "a_0: 29.2613\t a_s: 0.01\t gamma: 45.6184\t sol_number: 5\n",
      "a_0: 18.2012\t a_s: 0.0732\t gamma: 45.6184\t sol_number: 2\n",
      "a_0: 31.1550\t a_s: 0.0614\t gamma: 45.6184\t sol_number: 2\n",
      "a_0: 29.2613\t a_s: 0.01\t gamma: 45.6184\t sol_number: 5\n",
      "a_0: 18.2012\t a_s: 0.0732\t gamma: 45.6184\t sol_number: 2\n",
      "a_0: 31.1550\t a_s: 0.0614\t gamma: 45.6184\t sol_number: 2\n",
      "a_0: 29.2613\t a_s: 0.01\t gamma: 45.6184\t sol_number: 5\n",
      "a_0: 18.2012\t a_s: 0.0732\t gamma: 45.6184\t sol_number: 2\n",
      "a_0: 31.1550\t a_s: 0.0614\t gamma: 45.6184\t sol_number: 2\n",
      "a_0: 29.2613\t a_s: 0.01\t gamma: 45.6184\t sol_number: 5\n",
      "a_0: 18.2012\t a_s: 0.0732\t gamma: 45.6184\t sol_number: 2\n",
      "a_0: 31.1550\t a_s: 0.0614\t gamma: 45.6184\t sol_number: 2\n",
      "a_0: 29.2613\t a_s: 0.01\t gamma: 45.6184\t sol_number: 5\n",
      "a_0: 18.2012\t a_s: 0.0732\t gamma: 45.6184\t sol_number: 2\n",
      "a_0: 31.1550\t a_s: 0.0614\t gamma: 45.6184\t sol_number: 2\n",
      "a_0: 29.2613\t a_s: 0.01\t gamma: 45.6184\t sol_number: 5\n",
      "a_0: 18.2012\t a_s: 0.0732\t gamma: 45.6184\t sol_number: 2\n",
      "a_0: 31.1550\t a_s: 0.0614\t gamma: 45.6184\t sol_number: 2\n",
      "a_0: 29.2613\t a_s: 0.01\t gamma: 45.6184\t sol_number: 5\n",
      "a_0: 18.2012\t a_s: 0.0732\t gamma: 45.6184\t sol_number: 2\n",
      "a_0: 31.1550\t a_s: 0.0614\t gamma: 45.6184\t sol_number: 2\n",
      "a_0: 29.2613\t a_s: 0.01\t gamma: 45.6184\t sol_number: 5\n",
      "a_0: 18.2012\t a_s: 0.0732\t gamma: 45.6184\t sol_number: 2\n",
      "a_0: 31.1550\t a_s: 0.0614\t gamma: 45.6184\t sol_number: 2\n",
      "a_0: 29.2613\t a_s: 0.01\t gamma: 45.6184\t sol_number: 5\n",
      "a_0: 18.2012\t a_s: 0.0732\t gamma: 45.6184\t sol_number: 2\n",
      "a_0: 31.1550\t a_s: 0.0614\t gamma: 45.6184\t sol_number: 2\n",
      "a_0: 29.2613\t a_s: 0.01\t gamma: 45.6184\t sol_number: 5\n",
      "a_0: 18.2012\t a_s: 0.0732\t gamma: 45.6184\t sol_number: 2\n",
      "a_0: 31.1550\t a_s: 0.0614\t gamma: 45.6184\t sol_number: 2\n",
      "a_0: 29.2613\t a_s: 0.01\t gamma: 45.6184\t sol_number: 5\n",
      "a_0: 18.2012\t a_s: 0.0732\t gamma: 45.6184\t sol_number: 2\n",
      "a_0: 31.1550\t a_s: 0.0614\t gamma: 45.6184\t sol_number: 2\n",
      "a_0: 29.2613\t a_s: 0.01\t gamma: 45.6184\t sol_number: 5\n",
      "a_0: 18.2012\t a_s: 0.0732\t gamma: 45.6184\t sol_number: 2\n",
      "a_0: 31.1550\t a_s: 0.0614\t gamma: 45.6184\t sol_number: 2\n",
      "a_0: 29.2613\t a_s: 0.01\t gamma: 45.6184\t sol_number: 5\n",
      "a_0: 18.2012\t a_s: 0.0732\t gamma: 45.6184\t sol_number: 2\n",
      "a_0: 31.1550\t a_s: 0.0614\t gamma: 45.6184\t sol_number: 2\n",
      "a_0: 29.2613\t a_s: 0.01\t gamma: 45.6184\t sol_number: 5\n",
      "a_0: 18.2012\t a_s: 0.0732\t gamma: 45.6184\t sol_number: 2\n",
      "a_0: 31.1550\t a_s: 0.0614\t gamma: 45.6184\t sol_number: 2\n",
      "a_0: 29.2613\t a_s: 0.01\t gamma: 45.6184\t sol_number: 5\n",
      "a_0: 18.2012\t a_s: 0.0732\t gamma: 45.6184\t sol_number: 2\n",
      "a_0: 31.1550\t a_s: 0.0614\t gamma: 45.6184\t sol_number: 2\n",
      "a_0: 29.2613\t a_s: 0.01\t gamma: 45.6184\t sol_number: 5\n",
      "a_0: 18.2012\t a_s: 0.0732\t gamma: 45.6184\t sol_number: 2\n",
      "a_0: 31.1550\t a_s: 0.0614\t gamma: 45.6184\t sol_number: 2\n",
      "a_0: 29.2613\t a_s: 0.01\t gamma: 45.6184\t sol_number: 5\n",
      "a_0: 18.2012\t a_s: 0.0732\t gamma: 45.6184\t sol_number: 2\n",
      "a_0: 31.1550\t a_s: 0.0614\t gamma: 45.6184\t sol_number: 2\n",
      "a_0: 29.2613\t a_s: 0.01\t gamma: 45.6184\t sol_number: 5\n",
      "a_0: 18.2012\t a_s: 0.0732\t gamma: 45.6184\t sol_number: 2\n",
      "a_0: 31.1550\t a_s: 0.0614\t gamma: 45.6184\t sol_number: 2\n",
      "a_0: 29.2613\t a_s: 0.01\t gamma: 45.6184\t sol_number: 5\n",
      "a_0: 18.2012\t a_s: 0.0732\t gamma: 45.6184\t sol_number: 2\n",
      "a_0: 31.1550\t a_s: 0.0614\t gamma: 45.6184\t sol_number: 2\n",
      "a_0: 29.2613\t a_s: 0.01\t gamma: 45.6184\t sol_number: 5\n",
      "a_0: 18.2012\t a_s: 0.0732\t gamma: 45.6184\t sol_number: 2\n",
      "a_0: 31.1550\t a_s: 0.0614\t gamma: 45.6184\t sol_number: 2\n",
      "a_0: 29.2613\t a_s: 0.01\t gamma: 45.6184\t sol_number: 5\n",
      "a_0: 18.2012\t a_s: 0.0732\t gamma: 45.6184\t sol_number: 2\n",
      "a_0: 31.1550\t a_s: 0.0614\t gamma: 45.6184\t sol_number: 2\n",
      "a_0: 29.2613\t a_s: 0.01\t gamma: 45.6184\t sol_number: 5\n",
      "a_0: 18.2012\t a_s: 0.0732\t gamma: 45.6184\t sol_number: 2\n",
      "a_0: 31.1550\t a_s: 0.0614\t gamma: 45.6184\t sol_number: 2\n",
      "a_0: 29.2613\t a_s: 0.01\t gamma: 45.6184\t sol_number: 5\n",
      "a_0: 18.2012\t a_s: 0.0732\t gamma: 45.6184\t sol_number: 2\n",
      "a_0: 31.1550\t a_s: 0.0614\t gamma: 45.6184\t sol_number: 2\n",
      "a_0: 29.2613\t a_s: 0.01\t gamma: 45.6184\t sol_number: 5\n",
      "a_0: 18.2012\t a_s: 0.0732\t gamma: 45.6184\t sol_number: 2\n",
      "a_0: 31.1550\t a_s: 0.0614\t gamma: 45.6184\t sol_number: 2\n",
      "a_0: 29.2613\t a_s: 0.01\t gamma: 45.6184\t sol_number: 5\n",
      "a_0: 18.2012\t a_s: 0.0732\t gamma: 45.6184\t sol_number: 2\n",
      "a_0: 31.1550\t a_s: 0.0614\t gamma: 45.6184\t sol_number: 2\n",
      "a_0: 29.2613\t a_s: 0.01\t gamma: 45.6184\t sol_number: 5\n",
      "-----------No Convergence!---------------------\n",
      "--------------------------------------------------\n"
     ]
    },
    {
     "name": "stderr",
     "output_type": "stream",
     "text": [
      "C:\\Users\\GUNU\\anaconda3\\envs\\tf24\\lib\\site-packages\\scipy\\optimize\\minpack.py:175: RuntimeWarning: The iteration is not making good progress, as measured by the \n",
      "  improvement from the last ten iterations.\n",
      "  warnings.warn(msg, RuntimeWarning)\n"
     ]
    },
    {
     "ename": "TypeError",
     "evalue": "unsupported operand type(s) for *: 'float' and 'NoneType'",
     "output_type": "error",
     "traceback": [
      "\u001b[1;31m---------------------------------------------------------------------------\u001b[0m",
      "\u001b[1;31mTypeError\u001b[0m                                 Traceback (most recent call last)",
      "\u001b[1;32m~\\AppData\\Local\\Temp/ipykernel_46664/1930367311.py\u001b[0m in \u001b[0;36m<module>\u001b[1;34m\u001b[0m\n\u001b[0;32m     20\u001b[0m     \u001b[0mexp\u001b[0m \u001b[1;33m=\u001b[0m \u001b[0mIterative_method\u001b[0m\u001b[1;33m(\u001b[0m\u001b[0mne\u001b[0m\u001b[1;33m,\u001b[0m\u001b[0mTe\u001b[0m\u001b[1;33m,\u001b[0m\u001b[0mVsat\u001b[0m\u001b[1;33m,\u001b[0m\u001b[0mIsat\u001b[0m\u001b[1;33m,\u001b[0m\u001b[0mVp\u001b[0m\u001b[1;33m)\u001b[0m\u001b[1;33m\u001b[0m\u001b[1;33m\u001b[0m\u001b[0m\n\u001b[0;32m     21\u001b[0m     \u001b[0malpha\u001b[0m \u001b[1;33m=\u001b[0m \u001b[0mexp\u001b[0m\u001b[1;33m.\u001b[0m\u001b[0miteration\u001b[0m\u001b[1;33m(\u001b[0m\u001b[1;33m)\u001b[0m\u001b[1;33m\u001b[0m\u001b[1;33m\u001b[0m\u001b[0m\n\u001b[1;32m---> 22\u001b[1;33m     \u001b[0mnm\u001b[0m \u001b[1;33m=\u001b[0m \u001b[0mne\u001b[0m\u001b[1;33m*\u001b[0m\u001b[0malpha\u001b[0m\u001b[1;33m\u001b[0m\u001b[1;33m\u001b[0m\u001b[0m\n\u001b[0m\u001b[0;32m     23\u001b[0m     \u001b[0mprint\u001b[0m\u001b[1;33m(\u001b[0m\u001b[1;34m\"Vp: {}, Vsat: {}, Isat: {}, Ni: {}\\n\\n\"\u001b[0m\u001b[1;33m.\u001b[0m\u001b[0mformat\u001b[0m\u001b[1;33m(\u001b[0m\u001b[0mVp\u001b[0m\u001b[1;33m,\u001b[0m \u001b[0mVsat\u001b[0m\u001b[1;33m,\u001b[0m \u001b[0mIsat\u001b[0m\u001b[1;33m,\u001b[0m \u001b[0mNi\u001b[0m\u001b[1;33m)\u001b[0m\u001b[1;33m)\u001b[0m\u001b[1;33m\u001b[0m\u001b[1;33m\u001b[0m\u001b[0m\n\u001b[0;32m     24\u001b[0m \u001b[1;33m\u001b[0m\u001b[0m\n",
      "\u001b[1;31mTypeError\u001b[0m: unsupported operand type(s) for *: 'float' and 'NoneType'"
     ]
    }
   ],
   "source": [
    "distances, nes, nms, alphas, Vps, Tes, Nis = [], [], [], [], [], [], []\n",
    "\n",
    "ldf_files = parser.ldf_paths()\n",
    "for file in ldf_files:\n",
    "    IV, eedf, result = parser.pull_attr(file, need_return=True)\n",
    "    print(file)\n",
    "    distance = float(file.split('/')[-1][:-4])\n",
    "    ne = result['Ne'][0]\n",
    "    Te = result['eepf_Te'][0]\n",
    "    Ni = result['Ni'][0]\n",
    "    #Isat = result['Isat'][0]\n",
    "    #Vsat = result['Vsat'][0]\n",
    "    \n",
    "    Isat = -np.array(IV['I'])[0]\n",
    "    Vsat = -np.array(IV['V'])[0]\n",
    "    #Isat = -np.array(IV[IV['V']<-20]['I'])[-1]\n",
    "    #Vsat = -np.array(IV[IV['V']<-20]['V'])[-1]\n",
    "    \n",
    "    Vp = result['Vp'][0]\n",
    "    exp = Iterative_method(ne,Te,Vsat,Isat,Vp)\n",
    "    alpha = exp.iteration()\n",
    "    nm = ne*alpha\n",
    "    print(\"Vp: {}, Vsat: {}, Isat: {}, Ni: {}\\n\\n\".format(Vp, Vsat, Isat, Ni))\n",
    "    \n",
    "    Nis.append(Ni)\n",
    "    Vps.append(Vp)\n",
    "    alphas.append(alpha)\n",
    "    nes.append(ne)\n",
    "    nms.append(nm)\n",
    "    distances.append(distance)\n",
    "    Tes.append(Te)"
   ]
  },
  {
   "cell_type": "code",
   "execution_count": 9,
   "metadata": {},
   "outputs": [
    {
     "data": {
      "text/plain": [
       "<matplotlib.collections.PathCollection at 0x18b35f30eb0>"
      ]
     },
     "execution_count": 9,
     "metadata": {},
     "output_type": "execute_result"
    },
    {
     "data": {
      "image/png": "[encoded data removed]",
      "text/plain": [
       "<Figure size 432x288 with 1 Axes>"
      ]
     },
     "metadata": {
      "needs_background": "light"
     },
     "output_type": "display_data"
    }
   ],
   "source": [
    "plt.scatter(distances, Tes)"
   ]
  },
  {
   "cell_type": "code",
   "execution_count": 10,
   "metadata": {},
   "outputs": [
    {
     "data": {
      "image/png": "[encoded data removed]",
      "text/plain": [
       "<Figure size 432x288 with 1 Axes>"
      ]
     },
     "metadata": {
      "needs_background": "light"
     },
     "output_type": "display_data"
    }
   ],
   "source": [
    "plt.scatter(distances, np.array(Nis), c='orange')\n",
    "plt.scatter(distances, np.array(nms), c='red')\n",
    "plt.scatter(distances, np.array(nes) + np.array(nms), c='black')\n",
    "\n",
    "plt.yscale('log')"
   ]
  },
  {
   "cell_type": "code",
   "execution_count": 11,
   "metadata": {},
   "outputs": [
    {
     "data": {
      "text/plain": [
       "Text(0, 0.5, '$\\\\alpha_0$')"
      ]
     },
     "execution_count": 11,
     "metadata": {},
     "output_type": "execute_result"
    },
    {
     "data": {
      "image/png": "[encoded data removed]",
      "text/plain": [
       "<Figure size 432x288 with 1 Axes>"
      ]
     },
     "metadata": {
      "needs_background": "light"
     },
     "output_type": "display_data"
    }
   ],
   "source": [
    "plt.scatter(distances, alphas)\n",
    "plt.ylabel(r'$\\alpha_0$')"
   ]
  },
  {
   "cell_type": "code",
   "execution_count": 12,
   "metadata": {},
   "outputs": [
    {
     "data": {
      "text/plain": [
       "[29.97974268446948,\n",
       " 30.909357300721602,\n",
       " 31.204215336994757,\n",
       " 31.771682070212343,\n",
       " 31.979443898662794,\n",
       " 39.79510304567824,\n",
       " 32.614036591318396,\n",
       " 31.08829215657166,\n",
       " 30.054661058746692,\n",
       " 29.36669201440458]"
      ]
     },
     "execution_count": 12,
     "metadata": {},
     "output_type": "execute_result"
    }
   ],
   "source": [
    "alphas"
   ]
  },
  {
   "cell_type": "code",
   "execution_count": 13,
   "metadata": {},
   "outputs": [
    {
     "data": {
      "text/plain": [
       "Text(0, 0.5, 'Electron density $[m^{-3}]$')"
      ]
     },
     "execution_count": 13,
     "metadata": {},
     "output_type": "execute_result"
    },
    {
     "data": {
      "image/png": "[encoded data removed]",
      "text/plain": [
       "<Figure size 720x720 with 1 Axes>"
      ]
     },
     "metadata": {
      "needs_background": "light"
     },
     "output_type": "display_data"
    }
   ],
   "source": [
    "plt.figure(figsize=(10, 10))\n",
    "plt.scatter(distances, nes)\n",
    "plt.yscale('log')\n",
    "plt.ylabel('Electron density $[m^{-3}]$')"
   ]
  },
  {
   "cell_type": "code",
   "execution_count": 14,
   "metadata": {},
   "outputs": [
    {
     "data": {
      "text/plain": [
       "(0.0, 15.0)"
      ]
     },
     "execution_count": 14,
     "metadata": {},
     "output_type": "execute_result"
    },
    {
     "data": {
      "image/png": "[encoded data removed]",
      "text/plain": [
       "<Figure size 720x720 with 1 Axes>"
      ]
     },
     "metadata": {
      "needs_background": "light"
     },
     "output_type": "display_data"
    }
   ],
   "source": [
    "plt.figure(figsize=(10, 10))\n",
    "plt.scatter(distances, Vps)\n",
    "plt.ylabel('Plasma potential $[m^{-3}]$')\n",
    "plt.ylim(0,15)"
   ]
  },
  {
   "cell_type": "code",
   "execution_count": 15,
   "metadata": {},
   "outputs": [
    {
     "data": {
      "image/png": "[encoded data removed]",
      "text/plain": [
       "<Figure size 432x288 with 1 Axes>"
      ]
     },
     "metadata": {
      "needs_background": "light"
     },
     "output_type": "display_data"
    }
   ],
   "source": [
    "plt.ylabel('Negative ion density $[m^{-3}]$')\n",
    "plt.scatter(distances, nms)\n",
    "plt.yscale('log')"
   ]
  },
  {
   "cell_type": "code",
   "execution_count": 156,
   "metadata": {},
   "outputs": [
    {
     "data": {
      "text/plain": [
       "Text(0, 0.5, 'Negative ion density $[m^{-3}]$')"
      ]
     },
     "execution_count": 156,
     "metadata": {},
     "output_type": "execute_result"
    },
    {
     "data": {
      "image/png": "[encoded data removed]",
      "text/plain": [
       "<Figure size 432x288 with 1 Axes>"
      ]
     },
     "metadata": {
      "needs_background": "light"
     },
     "output_type": "display_data"
    }
   ],
   "source": [
    "plt.scatter(distances, nms)\n",
    "plt.scatter(distances, nes)\n",
    "plt.scatter(distances, np.array(nes) + np.array(nms))\n",
    "plt.yscale('log')\n",
    "plt.ylabel('Negative ion density $[m^{-3}]$')"
   ]
  },
  {
   "cell_type": "code",
   "execution_count": 26,
   "metadata": {},
   "outputs": [],
   "source": [
    "ne = result['Ne'][0]\n",
    "Te = result['eepf_Te'][0]\n",
    "Isat = result['Isat'][0]\n",
    "Vsat = result['Vsat'][0]\n",
    "Vp = result['Vp'][0]"
   ]
  },
  {
   "cell_type": "code",
   "execution_count": 42,
   "metadata": {},
   "outputs": [],
   "source": [
    "ne = 1e14 # 1/m3\n",
    "Te = 2 # eV\n",
    "Isat = 0.000033\n",
    "Vsat = 20.5937\n",
    "Vp = 10"
   ]
  },
  {
   "cell_type": "code",
   "execution_count": 43,
   "metadata": {},
   "outputs": [
    {
     "name": "stdout",
     "output_type": "stream",
     "text": [
      "1 9.993144036088852\n",
      "2 284.3567981085936\n",
      "3 1426.5949749931574\n",
      "4 3084.0299408756578\n",
      "5 4530.528698625436\n",
      "6 5490.731241753286\n",
      "7 6044.568961118748\n",
      "8 6342.08111325082\n",
      "9 6496.2804703189695\n",
      "10 6574.779524419255\n",
      "11 6614.383824091366\n",
      "--------------------------------------------------\n"
     ]
    }
   ],
   "source": [
    "exp = Iterative_method(ne,Te,Vsat,Isat,Vp)\n",
    "exp.iteration()"
   ]
  },
  {
   "cell_type": "code",
   "execution_count": null,
   "metadata": {},
   "outputs": [],
   "source": [
    "from scipy.integrate import solve_bvp\n",
    "rp= 25e-6\n",
    "J = 10\n",
    "V = 50\n",
    "uB = 100\n",
    "R= 50e-5\n",
    "def fun(r, y, r_sh):\n",
    "    return np.vstack((r_sh*J/(r*epsilon_0*y[1])-y[0]/r, e*y[0]/(mp*y[1])))\n",
    "\n",
    "def bc(ya,yb,p):\n",
    "    return np.array([yb[0],ya[1]-np.sqrt(2*e*V/mp),yb[1]-uB])\n",
    "# a=시작\n",
    "# b=끝\n",
    "# 0=E\n",
    "# 1=u\n",
    "n = 20\n",
    "r = np.linspace(rp, 3*R, n)\n",
    "y = np.array([np.linspace(V, 0, n)/(R-rp), np.linspace(np.sqrt(2*e*V/mp), uB, n)])\n",
    "\n",
    "sol = solve_bvp(fun, bc, r, y,p=(10*rp,))\n",
    "\n",
    "if sol.status != 0:\n",
    "    print(\"WARNING: sol.status is %d\" % sol.status)\n",
    "print(sol.message)\n",
    "\n",
    "plt.subplot(2, 1, 1)\n",
    "plt.plot(sol.x, sol.y[0], color='#801010', label='$y_0(x)$')\n",
    "plt.grid(alpha=0.5)\n",
    "plt.legend(framealpha=1, shadow=True)\n",
    "plt.subplot(2, 1, 2)\n",
    "plt.plot(sol.x, sol.y[1], '-', color='C0', label='$y_1(x)$')\n",
    "plt.xlabel('$x$')\n",
    "plt.grid(alpha=0.5)\n",
    "plt.legend(framealpha=1, shadow=True)\n",
    "plt.show()"
   ]
  }
 ],
 "metadata": {
  "kernelspec": {
   "display_name": "Python 3 (ipykernel)",
   "language": "python",
   "name": "python3"
  },
  "language_info": {
   "codemirror_mode": {
    "name": "ipython",
    "version": 3
   },
   "file_extension": ".py",
   "mimetype": "text/x-python",
   "name": "python",
   "nbconvert_exporter": "python",
   "pygments_lexer": "ipython3",
   "version": "3.8.12"
  }
 },
 "nbformat": 4,
 "nbformat_minor": 4
}
