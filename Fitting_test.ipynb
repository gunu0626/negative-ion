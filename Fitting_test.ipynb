{
 "cells": [
  {
   "cell_type": "markdown",
   "metadata": {},
   "source": [
    "## Fitting method"
   ]
  },
  {
   "cell_type": "markdown",
   "metadata": {},
   "source": [
    "## Control Variables : <font color = 'sky blue'> $n_e,n_+,n_-,T_e, T_+,T_-, m_+,m_-$ </font>\n",
    "<font size=\"2\">\n",
    "    [1] <a href=\"https://sci-hub.st/https://aip.scitation.org/doi/10.1063/1.4802252\"> [2013] Langmuir probe analysis of highly electronegative plasmas</a> <br>\n",
    "    [2] <a href=\"https://sci-hub.st/https://doi.org/10.1063/1.4903328\"> [2014] Langmuir probe analysis in electronegative plasmas</a> <br><br>\n",
    "    \n",
    "Number of control variables can be reduced by set $m_+,m_-$ and $n_+ =n_e+n_-$ <br>\n",
    "Ion composition setup : $SF_5^+,SF_5^-$ and m=127AMU<br>\n",
    "Fitting error within 5%"
   ]
  },
  {
   "cell_type": "code",
   "execution_count": 1,
   "metadata": {},
   "outputs": [],
   "source": [
    "import numpy as np\n",
    "from scipy.optimize import fsolve\n",
    "import xml.etree.ElementTree as ET\n",
    "import os\n",
    "import matplotlib.pyplot as plt\n",
    "from scipy.integrate import solve_ivp\n",
    "from scipy.special import erfc"
   ]
  },
  {
   "cell_type": "markdown",
   "metadata": {},
   "source": [
    "## Model Setup"
   ]
  },
  {
   "cell_type": "code",
   "execution_count": 2,
   "metadata": {},
   "outputs": [],
   "source": [
    "#######################\n",
    "## Physical Constant ##\n",
    "#######################\n",
    "e = 1.6e-19 # electron charge [C]\n",
    "epsilon_0 = 8.854e-12 # permittivity of vacuum [F/m]\n",
    "kB = 1.38e-23 #Bolzmann const [kg m2/s2/K]\n",
    "Mp = 127*1.67e-27 # mass of positive ion [kg] SF5+\n",
    "Mn = 127*1.67e-27 # mass of negative ion [kg] SF5-\n",
    "Me = 9.11e-31 # mass of electron [kg]\n",
    "hr = 0.6 # h-factor\n",
    "rp = 25e-6 # probe radius [m]\n",
    "lp = 6e-3 # probe length [m]\n",
    "Ap = 2*np.pi*lp*rp + 2*np.pi*rp**2 # probe surface area[m2]"
   ]
  },
  {
   "cell_type": "markdown",
   "metadata": {
    "tags": []
   },
   "source": [
    "## 계산될 Parameter"
   ]
  },
  {
   "cell_type": "code",
   "execution_count": 3,
   "metadata": {},
   "outputs": [],
   "source": [
    "def solve_as(Te, Tm, a_0):\n",
    "    def eqn21(a_s):\n",
    "        return a_0 - a_s*np.exp(-1/2*(1+a_s)/(1+Te/Tm*a_s)*(1-Te/Tm))\n",
    "    a_s = max(fsolve(eqn21,np.logspace(-4,2,7)))\n",
    "    return a_s\n",
    "\n",
    "def Seff(V, n_e, n_m, Te, Tm, Vp):\n",
    "    n_p = n_e + n_m\n",
    "    a_s = solve_as(Te, Tm, n_m/n_e)\n",
    "    uBp = np.sqrt(e*Te/Mp)*np.sqrt((1+a_s)/(1+Te/Tm*a_s))\n",
    "    J = hr*n_p*e*uBp\n",
    "    r_sh = np.sqrt(4/9*epsilon_0*np.sqrt(2*e/Me)*(abs(V-Vp))**1.5/J)\n",
    "    r_sh = r_sh + rp\n",
    "    #return 2*np.pi*r_sh*lp + 2*np.pi*r_sh**2\n",
    "    return Ap\n",
    "\n",
    "#### 위 두개는 iterative class에서 상속받아 쓸거임\n",
    "\n",
    "def I_p(V, n_e, n_m, Te, Tp, Tm, Vp):\n",
    "    n_p = n_e + n_m\n",
    "    a_s = solve_as(Te, Tm, n_m/n_e)\n",
    "    uBp = np.sqrt(e*Te/Mp)*np.sqrt((1+a_s)/(1+Te/Tm*a_s))\n",
    "    if Vp > V:\n",
    "        I = -hr*n_p*e*uBp*Seff(V, n_e, n_m, Te, Tm, Vp)\n",
    "    else:\n",
    "        I_Vp = -hr*n_p*e*uBp*Seff(V, n_e, n_m, Te, Tm, Vp)\n",
    "        I = I_Vp*np.exp(-(V-Vp)/Tp)\n",
    "    return -I\n",
    "    \n",
    "def I_e(V, n_e, Te, Vp):\n",
    "    ve = np.sqrt(8*e*Te/np.pi/Me)\n",
    "    if Vp > V:\n",
    "        I = e*Ap*n_e*ve/4*np.exp(-(Vp - V)/Te)\n",
    "    else:\n",
    "        I = e*Ap*n_e*ve/2*(2*np.sqrt((V-Vp)/Te/np.pi)+1/2*np.exp((V-Vp)/Te)*erfc((V-Vp)/Te))\n",
    "    return I\n",
    "    \n",
    "def I_n(V, n_e, n_m, Te, Tm, Vp):\n",
    "    uBn = np.sqrt(e*Tm/Mn)\n",
    "    if Vp > V:\n",
    "        I_Vp = hr*n_m*e*uBn*Seff(V, n_e, n_m, Te, Tm, Vp) # Seff(V) function 만들기\n",
    "        I = I_Vp*np.exp(-(Vp - V)/Tm)\n",
    "        #print('I: {:.4e}'.format(I))\n",
    "    else:\n",
    "        I = hr*n_m*e*uBn*Seff(V, n_e, n_m, Te, Tm, Vp)\n",
    "        #print('I: {:.4e}'.format(I))\n",
    "    return I"
   ]
  },
  {
   "cell_type": "code",
   "execution_count": 21,
   "metadata": {
    "jp-MarkdownHeadingCollapsed": true,
    "tags": []
   },
   "outputs": [],
   "source": [
    "Vp = 0\n",
    "ne = 1e14\n",
    "nm = 1e18\n",
    "Te = 2\n",
    "Tp = 0.3\n",
    "Tm = 0.2"
   ]
  },
  {
   "cell_type": "code",
   "execution_count": 22,
   "metadata": {},
   "outputs": [],
   "source": [
    "V_list1 = np.linspace(-5, 0, 100)\n",
    "V_list2 = np.linspace(0,5,100)\n",
    "V_list = np.unique(np.concatenate((V_list1,V_list2)))\n",
    "I_list, I_p_list, I_e_list, I_n_list = [], [], [], []\n",
    "\n",
    "for V in V_list:\n",
    "    I_p_list.append(-I_p(V, ne, nm, Te, Tp, Tm, Vp))\n",
    "    I_e_list.append(I_e(V, ne, Te, Vp))\n",
    "    I_n_list.append(I_n(V, ne, nm, Te, Tm, Vp))\n",
    "    I_list.append(-I_p(V, ne, nm, Te, Tp, Tm, Vp) + I_e(V, ne, Te, Vp) + I_n(V, ne, nm, Te, Tm, Vp))"
   ]
  },
  {
   "cell_type": "code",
   "execution_count": 23,
   "metadata": {},
   "outputs": [
    {
     "data": {
      "text/plain": [
       "<matplotlib.legend.Legend at 0x22b7bee53d0>"
      ]
     },
     "execution_count": 23,
     "metadata": {},
     "output_type": "execute_result"
    },
    {
     "data": {
      "image/png": "[encoded data removed]",
      "text/plain": [
       "<Figure size 432x288 with 1 Axes>"
      ]
     },
     "metadata": {
      "needs_background": "light"
     },
     "output_type": "display_data"
    }
   ],
   "source": [
    "plt.figure(figsize=(6, 4))\n",
    "plt.plot(V_list, I_p_list, c='r')\n",
    "plt.plot(V_list, I_e_list, c='k')\n",
    "plt.plot(V_list, I_n_list, c='b')\n",
    "plt.plot(V_list, I_list, c='g')\n",
    "plt.grid(1)\n",
    "plt.legend(['$I_+$', '$I_e$', '$I_-$', '$I$'])"
   ]
  },
  {
   "cell_type": "code",
   "execution_count": null,
   "metadata": {},
   "outputs": [],
   "source": []
  }
 ],
 "metadata": {
  "kernelspec": {
   "display_name": "Python 3 (ipykernel)",
   "language": "python",
   "name": "python3"
  },
  "language_info": {
   "codemirror_mode": {
    "name": "ipython",
    "version": 3
   },
   "file_extension": ".py",
   "mimetype": "text/x-python",
   "name": "python",
   "nbconvert_exporter": "python",
   "pygments_lexer": "ipython3",
   "version": "3.8.11"
  }
 },
 "nbformat": 4,
 "nbformat_minor": 4
}
