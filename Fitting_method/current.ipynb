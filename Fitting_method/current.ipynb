{
 "cells": [
  {
   "cell_type": "code",
   "execution_count": null,
   "metadata": {},
   "outputs": [],
   "source": [
    "from setup import *\n",
    "from sheath import Seff, solve_alpha_s\n",
    "from scipy.special import erfc\n",
    "\n",
    "def I_p(V, n_e, n_m, Te, Tp, Tm, Vp):\n",
    "    n_p = n_e + n_m\n",
    "    a_s = solve_as(Te, Tm, n_m/n_e)\n",
    "    uBp = np.sqrt(ELECTRON_CHARGE*Te/POSITIVE_ION_MASS)*np.sqrt((1+a_s)/(1+Te/Tm*a_s))\n",
    "    if Vp > V:\n",
    "        I_Vp = H_FACTOR*n_p*ELECTRON_CHARGE*uBp*Seff(Vp, n_e, n_m, Te, Tm, Vp)\n",
    "        I = 2*I_Vp - H_FACTOR*n_p*ELECTRON_CHARGE*uBp*Seff(V, n_e, n_m, Te, Tm, Vp)\n",
    "    else:\n",
    "        I_Vp = H_FACTOR*n_p*ELECTRON_CHARGE*uBp*Seff(V, n_e, n_m, Te, Tm, Vp)\n",
    "        I = I_Vp*np.exp(-(V-Vp)/Tp)\n",
    "    return I\n",
    "    \n",
    "def I_e(V, n_e, Te, Vp):\n",
    "    ve = np.sqrt(8*ELECTRON_CHARGE*Te/np.pi/ELECTRON_MASS)\n",
    "    if Vp > V:\n",
    "        I = ELECTRON_CHARGE*PROBE_AREA*n_e*ve/4*np.exp(-(Vp - V)/Te)\n",
    "    else:\n",
    "        I = ELECTRON_CHARGE*PROBE_AREA*n_e*ve/2*(2*np.sqrt((V-Vp)/Te/np.pi)+1/2*np.exp((V-Vp)/Te)*erfc((V-Vp)/Te))\n",
    "    return I\n",
    "    \n",
    "def I_n(V, n_e, n_m, Te, Tm, Vp):\n",
    "    uBn = np.sqrt(ELECTRON_CHARGE*Tm/NEGATIVE_ION_MASS)\n",
    "\n",
    "    if Vp > V:\n",
    "        I_Vp = H_FACTOR*n_m*ELECTRON_CHARGE*uBn*Seff(V, n_e, n_m, Te, Tm, Vp) # Seff(V) function 만들기\n",
    "        I = I_Vp*np.exp(-(Vp - V)/Tm)\n",
    "        #print('I: {:.4e}'.format(I))\n",
    "    else:\n",
    "        I_Vp = H_FACTOR*n_m*ELECTRON_CHARGE*uBn*Seff(Vp, n_e, n_m, Te, Tm, Vp)\n",
    "        I = 2*I_Vp - H_FACTOR*n_m*ELECTRON_CHARGE*uBn*Seff(V, n_e, n_m, Te, Tm, Vp)\n",
    "        #print('I: {:.4e}'.format(I))\n",
    "    return I"
   ]
  }
 ],
 "metadata": {
  "language_info": {
   "name": "python"
  },
  "orig_nbformat": 4
 },
 "nbformat": 4,
 "nbformat_minor": 2
}
