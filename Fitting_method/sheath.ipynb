{
 "cells": [
  {
   "cell_type": "code",
   "execution_count": 7,
   "metadata": {},
   "outputs": [],
   "source": [
    "from setup import *\n",
    "from scipy.optimize import fsolve\n",
    "from scipy.integrate import odeint\n",
    "import numpy as np"
   ]
  },
  {
   "cell_type": "code",
   "execution_count": 10,
   "metadata": {},
   "outputs": [],
   "source": [
    "def solve_alpha_s(Te, Tm, alpha_0):\n",
    "    return np.max(fsolve(lambda alpha_s : alpha_0 - alpha_s*np.exp(-1/2*(1 + alpha_s)/(1 + Te/Tm*alpha_s)*(1 - Te/Tm)) \\\n",
    "            ,np.logspace(-4, 2, 7)))"
   ]
  },
  {
   "cell_type": "code",
   "execution_count": 12,
   "metadata": {},
   "outputs": [],
   "source": [
    "def cylindrical_sheath(uB, J, V):\n",
    "    R = 20*PROBE_RADIUS\n",
    "    r_list = np.linspace(R, PROBE_RADIUS, 20000)\n",
    "    def fun(y, r):\n",
    "        return [R*J/(r*EPSILON_0*y[1]) - y[0]/r, ELECTRON_CHARGE*y[0]/(POSITIVE_ION_MASS*y[1])]   # y는 E, u 로 이루어져있음\n",
    "\n",
    "    sol = odeint(fun, y0=[0, uB], t=r_list)  # Sheath edge로 추정되는 부분에서 적분 시작\n",
    "    u = sol[:, 1]\n",
    "    \n",
    "    r_sh = r_list[find_nearest(u, np.sqrt(2*ELECTRON_CHARGE*V/(POSITIVE_ION_MASS)))]\n",
    "    return r_sh"
   ]
  },
  {
   "cell_type": "code",
   "execution_count": 13,
   "metadata": {},
   "outputs": [],
   "source": [
    "def planar_sheath(uB, J, V):\n",
    "    r_sh = np.sqrt(4/9*EPSILON_0*np.sqrt(2*ELECTRON_CHARGE/ELECTRON_MASS)*(abs(V))**1.5/J)\n",
    "    return r_sh\n"
   ]
  },
  {
   "cell_type": "code",
   "execution_count": 14,
   "metadata": {},
   "outputs": [],
   "source": [
    "def solve_Seff(V, n_e, n_m, Te, Tm, Vp, cylindrical=True):\n",
    "    n_p = n_e + n_m\n",
    "    a_s = solve_alpha_s(Te, Tm, n_m/n_e)\n",
    "    uBp = np.sqrt(ELECTRON_CHARGE*Te/POSITIVE_ION_MASS)*np.sqrt((1+a_s)/(1+Te/Tm*a_s))\n",
    "    J = H_FACTOR*n_p*ELECTRON_CHARGE*uBp\n",
    "\n",
    "    if cylindrical:\n",
    "        r_sh = cylindrical_sheath(uBp, J, abs(V-Vp)) #r_sh calculation with cylindrical probe\n",
    "    else:\n",
    "        r_sh = planar_sheath(uBp, J, abs(V-Vp)) #r_sh calculation with planar probe\n",
    "\n",
    "    return 2*np.pi*r_sh*PROBE_LENGTH + 2*np.pi*r_sh**2"
   ]
  },
  {
   "cell_type": "code",
   "execution_count": 9,
   "metadata": {},
   "outputs": [],
   "source": [
    "import matplotlib.pyplot as plt\n"
   ]
  },
  {
   "cell_type": "code",
   "execution_count": null,
   "metadata": {},
   "outputs": [],
   "source": []
  }
 ],
 "metadata": {
  "interpreter": {
   "hash": "70f771d3bc6c150054e9839a714d038f9e349eb6984246b50653f4883bd59734"
  },
  "kernelspec": {
   "display_name": "Python 3.6.10 ('py_36')",
   "language": "python",
   "name": "python3"
  },
  "language_info": {
   "codemirror_mode": {
    "name": "ipython",
    "version": 3
   },
   "file_extension": ".py",
   "mimetype": "text/x-python",
   "name": "python",
   "nbconvert_exporter": "python",
   "pygments_lexer": "ipython3",
   "version": "3.6.10"
  },
  "orig_nbformat": 4
 },
 "nbformat": 4,
 "nbformat_minor": 2
}
