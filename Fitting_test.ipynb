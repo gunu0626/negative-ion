{
 "cells": [
  {
   "cell_type": "markdown",
   "metadata": {},
   "source": [
    "## Fitting method"
   ]
  },
  {
   "cell_type": "markdown",
   "metadata": {},
   "source": [
    "## Control Variables : <font color = 'sky blue'> $n_e,n_+,n_-,T_e, T_+,T_-, m_+,m_-$ </font>\n",
    "<font size=\"2\">\n",
    "    [1] <a href=\"https://sci-hub.st/https://aip.scitation.org/doi/10.1063/1.4802252\"> [2013] Langmuir probe analysis of highly electronegative plasmas</a> <br>\n",
    "    [2] <a href=\"https://sci-hub.st/https://doi.org/10.1063/1.4903328\"> [2014] Langmuir probe analysis in electronegative plasmas</a> <br><br>\n",
    "    \n",
    "Number of control variables can be reduced by set $m_+,m_-$ and $n_+ =n_e+n_-$ <br>\n",
    "Ion composition setup : $SF_5^+,SF_5^-$ and m=127AMU<br>\n",
    "Fitting error within 5%"
   ]
  },
  {
   "cell_type": "code",
   "execution_count": 18,
   "metadata": {},
   "outputs": [],
   "source": [
    "import numpy as np\n",
    "from scipy.optimize import fsolve\n",
    "import xml.etree.ElementTree as ET\n",
    "import os\n",
    "import matplotlib.pyplot as plt\n",
    "from scipy.integrate import solve_ivp\n",
    "from scipy.special import erfc\n",
    "from scipy.integrate import simps, odeint\n",
    "from scipy.interpolate import interp1d\n",
    "from scipy.optimize import curve_fit"
   ]
  },
  {
   "cell_type": "markdown",
   "metadata": {},
   "source": [
    "## Model Setup"
   ]
  },
  {
   "cell_type": "code",
   "execution_count": 10,
   "metadata": {},
   "outputs": [],
   "source": [
    "#######################\n",
    "## Physical Constant ##\n",
    "#######################\n",
    "e = 1.6e-19 # electron charge [C]\n",
    "epsilon_0 = 8.854e-12 # permittivity of vacuum [F/m]\n",
    "kB = 1.38e-23 #Bolzmann const [kg m2/s2/K]\n",
    "Mp = 127*1.67e-27 # mass of positive ion [kg] SF5+\n",
    "Mn = 127*1.67e-27 # mass of negative ion [kg] SF5-\n",
    "Me = 9.11e-31 # mass of electron [kg]\n",
    "hr = 0.6 # h-factor\n",
    "rp = 25e-6 # probe radius [m]\n",
    "lp = 6e-3 # probe length [m]\n",
    "Ap = 2*np.pi*lp*rp + 2*np.pi*rp**2 # probe surface area[m2]"
   ]
  },
  {
   "cell_type": "markdown",
   "metadata": {
    "tags": []
   },
   "source": [
    "## 계산될 Parameter"
   ]
  },
  {
   "cell_type": "code",
   "execution_count": 35,
   "metadata": {},
   "outputs": [],
   "source": [
    "a = np.linspace(0,5,10)\n",
    "c = 2.5\n",
    "b = np.linspace(1,7,10)"
   ]
  },
  {
   "cell_type": "code",
   "execution_count": 11,
   "metadata": {},
   "outputs": [],
   "source": [
    "def find_nearest(array, value):\n",
    "    array = np.asarray(array)\n",
    "    idx = (np.abs(array - value)).argmin()\n",
    "    return idx"
   ]
  },
  {
   "cell_type": "code",
   "execution_count": 48,
   "metadata": {},
   "outputs": [],
   "source": [
    "def solve_as(Te, Tm, a_0):\n",
    "    def eqn21(a_s):\n",
    "        return a_0 - a_s*np.exp(-1/2*(1+a_s)/(1+Te/Tm*a_s)*(1-Te/Tm))\n",
    "    a_s = max(fsolve(eqn21,np.logspace(-4,2,7)))\n",
    "    return a_s\n",
    "\n",
    "def cylindrical_sheath(uB, J, V_probe):\n",
    "    R = 20*rp\n",
    "    r_list = np.linspace(R, rp, 20000)\n",
    "    def fun(y, r):\n",
    "        return [R*J/(r*epsilon_0*y[1]) - y[0]/r, e*y[0]/(Mp*y[1])]   # y는 E, u 로 이루어져있음\n",
    "\n",
    "    sol = odeint(fun, y0=[0, uB], t=r_list)  # Sheath edge로 추정되는 부분에서 적분 시작\n",
    "    u = sol[:, 1]\n",
    "    \n",
    "    r_sh = r_list[find_nearest(u, np.sqrt(2*e*V_probe/(Mp)))]\n",
    "    return r_sh\n",
    "\n",
    "def Seff(V, n_e, n_m, Te, Tm, Vp):\n",
    "    n_p = n_e + n_m\n",
    "    a_s = solve_as(Te, Tm, n_m/n_e)\n",
    "    uBp = np.sqrt(e*Te/Mp)*np.sqrt((1+a_s)/(1+Te/Tm*a_s))\n",
    "    J = hr*n_p*e*uBp\n",
    "    r_sh = cylindrical_sheath(uBp, J, abs(V-Vp))\n",
    "    #r_sh = np.sqrt(4/9*epsilon_0*np.sqrt(2*e/Me)*(abs(V-Vp))**1.5/J)\n",
    "    return 2*np.pi*r_sh*lp + 2*np.pi*r_sh**2\n",
    "    #return Ap\n",
    "\n",
    "#### 위 두개는 iterative class에서 상속받아 쓸거임\n",
    "\n",
    "def I_p(V, n_e, n_m, Te, Tp, Tm, Vp):\n",
    "    n_p = n_e + n_m\n",
    "    a_s = solve_as(Te, Tm, n_m/n_e)\n",
    "    uBp = np.sqrt(e*Te/Mp)*np.sqrt((1+a_s)/(1+Te/Tm*a_s))\n",
    "\n",
    "    if Vp > V:\n",
    "        I_Vp = hr*n_p*e*uBp*Seff(Vp, n_e, n_m, Te, Tm, Vp)\n",
    "        I = 2*I_Vp - hr*n_p*e*uBp*Seff(V, n_e, n_m, Te, Tm, Vp)\n",
    "    else:\n",
    "        I_Vp = hr*n_p*e*uBp*Seff(V, n_e, n_m, Te, Tm, Vp)\n",
    "        I = I_Vp*np.exp(-(V-Vp)/Tp)\n",
    "    return I\n",
    "    \n",
    "def I_e(V, n_e, Te, Vp):\n",
    "    ve = np.sqrt(8*e*Te/np.pi/Me)\n",
    "    \n",
    "    if Vp > V:\n",
    "        I = e*Ap*n_e*ve/4*np.exp(-(Vp - V)/Te)\n",
    "    else:\n",
    "        I = e*Ap*n_e*ve/2*(2*np.sqrt((V-Vp)/Te/np.pi)+1/2*np.exp((V-Vp)/Te)*erfc((V-Vp)/Te))\n",
    "    return I\n",
    "    \n",
    "def I_n(V, n_e, n_m, Te, Tm, Vp):\n",
    "    uBn = np.sqrt(e*Tm/Mn)\n",
    "\n",
    "    if Vp > V:\n",
    "        I_Vp = hr*n_m*e*uBn*Seff(V, n_e, n_m, Te, Tm, Vp) # Seff(V) function 만들기\n",
    "        I = I_Vp*np.exp(-(Vp - V)/Tm)\n",
    "        #print('I: {:.4e}'.format(I))\n",
    "    else:\n",
    "        I_Vp = hr*n_m*e*uBn*Seff(Vp, n_e, n_m, Te, Tm, Vp)\n",
    "        I = 2*I_Vp - hr*n_m*e*uBn*Seff(V, n_e, n_m, Te, Tm, Vp)\n",
    "        #print('I: {:.4e}'.format(I))\n",
    "    return I\n",
    "\n",
    "def total_current(V_input, ne, nm, Te, Tp, Tm, Vp):\n",
    "    I_list = []\n",
    "    for V in V_input:\n",
    "        I_list.append(-I_p(V, ne, nm, Te, Tp, Tm, Vp) + I_e(V, ne, Te, Vp) + I_n(V, ne, nm, Te, Tm, Vp))\n",
    "    return np.array(I_list)"
   ]
  },
  {
   "cell_type": "code",
   "execution_count": 175,
   "metadata": {
    "jp-MarkdownHeadingCollapsed": true,
    "tags": []
   },
   "outputs": [],
   "source": [
    "Vp = 0\n",
    "ne = 5.31e12\n",
    "nm = 1.2e15\n",
    "Te = 3\n",
    "Tp = 0.135\n",
    "Tm = 0.324"
   ]
  },
  {
   "cell_type": "code",
   "execution_count": 176,
   "metadata": {},
   "outputs": [],
   "source": [
    "V_list1 = np.linspace(-5, 0, 100)\n",
    "V_list2 = np.linspace(0,5,100)\n",
    "V_list = np.unique(np.concatenate((V_list1,V_list2)))\n",
    "V_list = np.linspace(-40,40,200)\n",
    "I_list, I_p_list, I_e_list, I_n_list = [], [], [], []\n",
    "\n",
    "for V in V_list:\n",
    "    I_p_list.append(-I_p(V, ne, nm, Te, Tp, Tm, Vp))\n",
    "    I_e_list.append(I_e(V, ne, Te, Vp))\n",
    "    I_n_list.append(I_n(V, ne, nm, Te, Tm, Vp))\n",
    "    I_list.append(-I_p(V, ne, nm, Te, Tp, Tm, Vp) + I_e(V, ne, Te, Vp) + I_n(V, ne, nm, Te, Tm, Vp))"
   ]
  },
  {
   "cell_type": "code",
   "execution_count": 177,
   "metadata": {},
   "outputs": [
    {
     "data": {
      "text/plain": [
       "<matplotlib.legend.Legend at 0x19baf22bc88>"
      ]
     },
     "execution_count": 177,
     "metadata": {},
     "output_type": "execute_result"
    },
    {
     "data": {
      "image/png": "[encoded data removed]",
      "text/plain": [
       "<Figure size 432x288 with 1 Axes>"
      ]
     },
     "metadata": {
      "needs_background": "light"
     },
     "output_type": "display_data"
    }
   ],
   "source": [
    "plt.figure(figsize=(6, 4))\n",
    "plt.plot(V_list, I_p_list, c='r')\n",
    "plt.plot(V_list, I_e_list, c='k')\n",
    "plt.plot(V_list, I_n_list, c='b')\n",
    "plt.plot(V_list, I_list, c='g')\n",
    "plt.grid(1)\n",
    "plt.legend(['$I_+$', '$I_e$', '$I_-$', '$I$'])"
   ]
  },
  {
   "cell_type": "code",
   "execution_count": 178,
   "metadata": {},
   "outputs": [
    {
     "data": {
      "text/plain": [
       "[<matplotlib.lines.Line2D at 0x19baf16d400>]"
      ]
     },
     "execution_count": 178,
     "metadata": {},
     "output_type": "execute_result"
    },
    {
     "data": {
      "image/png": "[encoded data removed]",
      "text/plain": [
       "<Figure size 432x288 with 1 Axes>"
      ]
     },
     "metadata": {
      "needs_background": "light"
     },
     "output_type": "display_data"
    }
   ],
   "source": [
    "plt.plot(V_list, I_list)"
   ]
  },
  {
   "cell_type": "code",
   "execution_count": 179,
   "metadata": {},
   "outputs": [
    {
     "name": "stderr",
     "output_type": "stream",
     "text": [
      "C:\\Users\\GUNU\\anaconda3\\envs\\py_36\\lib\\site-packages\\scipy\\integrate\\odepack.py:248: ODEintWarning: Excess work done on this call (perhaps wrong Dfun type). Run with full_output = 1 to get quantitative information.\n",
      "  warnings.warn(warning_msg, ODEintWarning)\n",
      "C:\\Users\\GUNU\\anaconda3\\envs\\py_36\\lib\\site-packages\\ipykernel_launcher.py:34: RuntimeWarning: invalid value encountered in sqrt\n",
      "C:\\Users\\GUNU\\anaconda3\\envs\\py_36\\lib\\site-packages\\ipykernel_launcher.py:22: RuntimeWarning: invalid value encountered in sqrt\n",
      "C:\\Users\\GUNU\\anaconda3\\envs\\py_36\\lib\\site-packages\\ipykernel_launcher.py:45: RuntimeWarning: invalid value encountered in sqrt\n",
      "C:\\Users\\GUNU\\anaconda3\\envs\\py_36\\lib\\site-packages\\ipykernel_launcher.py:50: RuntimeWarning: invalid value encountered in sqrt\n",
      "C:\\Users\\GUNU\\anaconda3\\envs\\py_36\\lib\\site-packages\\scipy\\optimize\\minpack.py:162: RuntimeWarning: The iteration is not making good progress, as measured by the \n",
      "  improvement from the last five Jacobian evaluations.\n",
      "  warnings.warn(msg, RuntimeWarning)\n"
     ]
    }
   ],
   "source": [
    "#popt, pcov = curve_fit(total_current, V_list, I_list, p0=(1.5e13, 1e15, 2, 0.2, 0.2, 6), bounds=([-np.inf, -np.inf, 0, 0, 0, -100], [np.inf, np.inf, 10, 0.5, 0.5, 100]), method='trf')\n",
    "popt, pcov = curve_fit(total_current, V_list, I_list, p0=(4e12, 2e15, 2, 0.2, 0.2, 2))"
   ]
  },
  {
   "cell_type": "code",
   "execution_count": 180,
   "metadata": {},
   "outputs": [
    {
     "name": "stdout",
     "output_type": "stream",
     "text": [
      "5.30e+12 1.32e+15 2.96e+00 2.15e-01 2.70e-01 -2.73e-02\n",
      "5.31e+12 1.20e+15 3.00e+00 1.35e-01 3.24e-01 0.00e+00\n"
     ]
    }
   ],
   "source": [
    "ne1, nm1, Te1, Tp1, Tm1, Vp1 = popt\n",
    "print(\"{:.2e} {:.2e} {:.2e} {:.2e} {:.2e} {:.2e}\".format(ne1, nm1, Te1, Tp1, Tm1, Vp1))\n",
    "print(\"{:.2e} {:.2e} {:.2e} {:.2e} {:.2e} {:.2e}\".format(ne, nm, Te, Tp, Tm, Vp))\n",
    "I_fitting_list = total_current(V_list, ne1, nm1, Te1, Tp1, Tm1, Vp1)\n",
    "error = np.average(abs((I_list - I_fitting_list)/I_list))*100"
   ]
  },
  {
   "cell_type": "code",
   "execution_count": 181,
   "metadata": {},
   "outputs": [
    {
     "data": {
      "image/png": "[encoded data removed]",
      "text/plain": [
       "<Figure size 432x288 with 1 Axes>"
      ]
     },
     "metadata": {
      "needs_background": "light"
     },
     "output_type": "display_data"
    }
   ],
   "source": [
    "plt.plot(V_list, I_list)\n",
    "plt.plot(V_list, I_fitting_list)\n",
    "plt.legend(['exp', 'fitting'])\n",
    "plt.text(V_list[0],0, 'Average Error : {:.3f}%'.format(error), fontsize=10, color='red')\n",
    "plt.show()"
   ]
  },
  {
   "cell_type": "code",
   "execution_count": null,
   "metadata": {},
   "outputs": [],
   "source": []
  }
 ],
 "metadata": {
  "kernelspec": {
   "display_name": "Python 3 (ipykernel)",
   "language": "python",
   "name": "python3"
  },
  "language_info": {
   "codemirror_mode": {
    "name": "ipython",
    "version": 3
   },
   "file_extension": ".py",
   "mimetype": "text/x-python",
   "name": "python",
   "nbconvert_exporter": "python",
   "pygments_lexer": "ipython3",
   "version": "3.6.10"
  }
 },
 "nbformat": 4,
 "nbformat_minor": 4
}
