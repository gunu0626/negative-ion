{
 "cells": [
  {
   "cell_type": "code",
   "execution_count": 19,
   "metadata": {},
   "outputs": [],
   "source": [
    "import numpy as np\n",
    "import matplotlib.pyplot as plt\n",
    "from scipy.integrate import simps, odeint\n",
    "from scipy.optimize import fsolve\n",
    "from scipy.interpolate import interp1d\n",
    "from const import *"
   ]
  },
  {
   "cell_type": "code",
   "execution_count": 20,
   "metadata": {},
   "outputs": [],
   "source": [
    "rp= 25e-6\n",
    "J = 10\n",
    "uB = 340\n",
    "s = 10*rp"
   ]
  },
  {
   "cell_type": "code",
   "execution_count": 136,
   "metadata": {},
   "outputs": [
    {
     "name": "stdout",
     "output_type": "stream",
     "text": [
      "V:1\t u:1228.33\n"
     ]
    }
   ],
   "source": [
    "V_probe = 1\n",
    "print('V:{}\\t u:{:.2f}'.format(V_probe, np.sqrt(2*e*V_probe/(Mp))))"
   ]
  },
  {
   "cell_type": "code",
   "execution_count": 21,
   "metadata": {},
   "outputs": [
    {
     "ename": "TypeError",
     "evalue": "cylindrical_sheath() missing 3 required positional arguments: 'uB', 'J', and 'V_probe'",
     "output_type": "error",
     "traceback": [
      "\u001b[1;31m---------------------------------------------------------------------------\u001b[0m",
      "\u001b[1;31mTypeError\u001b[0m                                 Traceback (most recent call last)",
      "\u001b[1;32m<ipython-input-21-c419ad091a76>\u001b[0m in \u001b[0;36m<module>\u001b[1;34m\u001b[0m\n\u001b[0;32m     26\u001b[0m     \u001b[1;32mreturn\u001b[0m \u001b[0mV\u001b[0m\u001b[1;33m\u001b[0m\u001b[1;33m\u001b[0m\u001b[0m\n\u001b[0;32m     27\u001b[0m \u001b[1;33m\u001b[0m\u001b[0m\n\u001b[1;32m---> 28\u001b[1;33m \u001b[0mE\u001b[0m\u001b[1;33m,\u001b[0m \u001b[0mu\u001b[0m\u001b[1;33m,\u001b[0m \u001b[0mV\u001b[0m\u001b[1;33m,\u001b[0m \u001b[0mr_list\u001b[0m \u001b[1;33m=\u001b[0m \u001b[0mcylindrical_sheath\u001b[0m\u001b[1;33m(\u001b[0m\u001b[0ms\u001b[0m\u001b[1;33m)\u001b[0m\u001b[1;33m\u001b[0m\u001b[1;33m\u001b[0m\u001b[0m\n\u001b[0m\u001b[0;32m     29\u001b[0m \u001b[1;33m\u001b[0m\u001b[0m\n\u001b[0;32m     30\u001b[0m \u001b[0mplt\u001b[0m\u001b[1;33m.\u001b[0m\u001b[0msubplots\u001b[0m\u001b[1;33m(\u001b[0m\u001b[0mfigsize\u001b[0m\u001b[1;33m=\u001b[0m\u001b[1;33m(\u001b[0m\u001b[1;36m10\u001b[0m\u001b[1;33m,\u001b[0m\u001b[1;36m6\u001b[0m\u001b[1;33m)\u001b[0m\u001b[1;33m)\u001b[0m\u001b[1;33m\u001b[0m\u001b[1;33m\u001b[0m\u001b[0m\n",
      "\u001b[1;31mTypeError\u001b[0m: cylindrical_sheath() missing 3 required positional arguments: 'uB', 'J', and 'V_probe'"
     ]
    }
   ],
   "source": [
    "def cylindrical_sheath(s):\n",
    "    R = rp + s\n",
    "    r_list = np.linspace(R, rp, 300)\n",
    "    def fun(y, r):\n",
    "        return [R*J/(r*epsilon_0*y[1]) - y[0]/r, e*y[0]/(Mp*y[1])]   # y는 E, u 로 이루어져있음\n",
    "\n",
    "    sol = odeint(fun, y0=[0, uB], t=r_list)  # Sheath edge로 추정되는 부분에서 적분 시작\n",
    "    V = simps(sol[:, 0], r_list)\n",
    "    return sol[:, 0], sol[:, 1], V, r_list\n",
    "\n",
    "# def cylindrical_sheath(s, uB, J, V_probe):\n",
    "#     R = rp + s\n",
    "#     r_list = np.linspace(R, rp, 10000)\n",
    "#     def fun(y, r):\n",
    "#         return [R*J/(r*epsilon_0*y[1]) - y[0]/r, e*y[0]/(Mp*y[1])]   # y는 E, u 로 이루어져있음\n",
    "\n",
    "#     sol = odeint(fun, y0=[0, uB], t=r_list)  # Sheath edge로 추정되는 부분에서 적분 시작\n",
    "#     u = sol[:, 1]\n",
    "\n",
    "#     ca_func = interp1d(r_list, u, 'cubic')\n",
    "#     s = fsolve(lambda r: np.sqrt(2*e*V_probe/(Mp)) - ca_func(r), rp)\n",
    "#     return s\n",
    "\n",
    "def child_law(s):\n",
    "    V = (9/4/epsilon_0*J*s**2*np.sqrt(Mp/2/e))**(2/3)\n",
    "    return V\n",
    "\n",
    "E, u, V, r_list = cylindrical_sheath(s)\n",
    "\n",
    "plt.subplots(figsize=(10,6))\n",
    "ax1 = plt.subplot(2,1,1)\n",
    "plt.plot(r_list*1e3, E)\n",
    "plt.ylabel('E [V/m]')\n",
    "plt.xticks(visible=False)\n",
    "plt.grid(True)\n",
    "\n",
    "ax2 = plt.subplot(2,1,2,sharex=ax1)\n",
    "plt.plot(r_list*1e3, u)\n",
    "plt.ylabel('u [m/s]')\n",
    "plt.xlabel('r [mm]')\n",
    "plt.grid(True)\n",
    "print(V)\n",
    "\n"
   ]
  },
  {
   "cell_type": "code",
   "execution_count": 10,
   "metadata": {},
   "outputs": [],
   "source": [
    "s_list = np.logspace(np.log10(rp)-3, np.log10(rp)+2, 10000)\n",
    "#s_list = np.linspace(1e-4*rp, 1e3*rp, 10000)\n",
    "V_list = []\n",
    "V_child_list = []\n",
    "\n",
    "for s in s_list:\n",
    "    V_list.append(cylindrical_sheath(s)[2])\n",
    "    V_child_list.append(child_law(s))\n",
    "\n",
    "V_list = np.array(V_list)\n",
    "V_child_list = np.array(V_child_list)"
   ]
  },
  {
   "cell_type": "code",
   "execution_count": 18,
   "metadata": {},
   "outputs": [
    {
     "data": {
      "image/png": "[encoded data removed]",
      "text/plain": [
       "<Figure size 720x432 with 1 Axes>"
      ]
     },
     "metadata": {
      "needs_background": "light"
     },
     "output_type": "display_data"
    }
   ],
   "source": [
    "plt.figure(figsize=(10,6))\n",
    "plt.plot((s_list)/rp, V_list)\n",
    "plt.plot((s_list)/rp, V_child_list)\n",
    "\n",
    "plt.legend(['Cyclindrical', 'Planar'])\n",
    "plt.xlabel('s/a')\n",
    "plt.ylabel('$V_0$  [V]')\n",
    "plt.xscale('log')\n",
    "plt.yscale('log')\n",
    "plt.xticks()\n",
    "plt.xlim(1e-2,1e1)\n",
    "plt.ylim(1e-2,1e2)\n",
    "plt.grid(True, 'both')"
   ]
  },
  {
   "cell_type": "code",
   "execution_count": null,
   "metadata": {},
   "outputs": [],
   "source": []
  }
 ],
 "metadata": {
  "interpreter": {
   "hash": "4c310b10a5ac6204327519a0c0c4dc05e810a8fde8d7c83dde02b08af00fc21b"
  },
  "kernelspec": {
   "display_name": "Python 3.8.11 64-bit ('pyrl': conda)",
   "language": "python",
   "name": "python3"
  },
  "language_info": {
   "codemirror_mode": {
    "name": "ipython",
    "version": 3
   },
   "file_extension": ".py",
   "mimetype": "text/x-python",
   "name": "python",
   "nbconvert_exporter": "python",
   "pygments_lexer": "ipython3",
   "version": "3.6.10"
  },
  "orig_nbformat": 4
 },
 "nbformat": 4,
 "nbformat_minor": 2
}
