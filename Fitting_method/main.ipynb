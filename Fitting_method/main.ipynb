{
 "cells": [
  {
   "cell_type": "markdown",
   "metadata": {},
   "source": [
    "#### Fitting method for electronegative plasma\n",
    "<hr/>\n",
    "\n",
    "Control Variables : <font color = 'sky blue'> $n_e,n_+,n_-,T_e, T_+,T_-, m_+,m_-$ </font>\n",
    "\n",
    "\n",
    "<font size=\"2\">\n",
    "    [1] <a href=\"https://aip.scitation.org/doi/10.1063/1.4802252\"> [2013] Langmuir probe analysis of highly electronegative plasmas</a> <br>\n",
    "    [2] <a href=\"https://doi.org/10.1063/1.4903328\"> [2014] Langmuir probe analysis in electronegative plasmas</a> <br><br>\n",
    "<hr/>\n",
    "\n",
    "Number of control variables can be reduced by set $m_+,m_-$ and $n_+ =n_e+n_-$. We just need 5 variables for fitting<br>\n",
    "Ion composition setup : $SF_5^+,SF_5^-$ and m=127 AMU<br>\n",
    "Fitting error within 5%\n",
    "\n",
    "<hr/>"
   ]
  },
  {
   "cell_type": "markdown",
   "metadata": {},
   "source": [
    "Import Modules"
   ]
  },
  {
   "cell_type": "code",
   "execution_count": 61,
   "metadata": {},
   "outputs": [],
   "source": [
    "import numpy as np\n",
    "from setup import *"
   ]
  },
  {
   "cell_type": "markdown",
   "metadata": {},
   "source": [
    "Probe Setup & Ion Mass"
   ]
  },
  {
   "cell_type": "code",
   "execution_count": 60,
   "metadata": {},
   "outputs": [
    {
     "name": "stdout",
     "output_type": "stream",
     "text": [
      "\u001b[94m\tProbe Setup\u001b[0m\n",
      "Probe Radius : \u001b[31m0.025\u001b[0m [mm]\n",
      "Probe Length : \u001b[31m6.0\u001b[0m [mm]\n",
      "\n",
      "\u001b[94m\tIon Mass\u001b[0m\n",
      "Positive : \u001b[31m127.0\u001b[0m [amu]\n",
      "Negative : \u001b[31m127.0\u001b[0m [amu]\n"
     ]
    }
   ],
   "source": [
    "print(\"\\033[94m\\tProbe Setup\\033[0m\")\n",
    "print(\"Probe Radius : \\033[31m{}\\033[0m [mm]\\nProbe Length : \\033[31m{}\\033[0m [mm]\\n\".format(rp*1e3,lp*1e3))\n",
    "print(\"\\033[94m\\tIon Mass\\033[0m\")\n",
    "print(\"Positive : \\033[31m{}\\033[0m [amu]\\nNegative : \\033[31m{}\\033[0m [amu]\".format(Mp/1.67e-27,Mn/1.67e-27))"
   ]
  },
  {
   "cell_type": "markdown",
   "metadata": {},
   "source": [
    "Fitting Method"
   ]
  },
  {
   "cell_type": "code",
   "execution_count": null,
   "metadata": {},
   "outputs": [],
   "source": []
  }
 ],
 "metadata": {
  "interpreter": {
   "hash": "70f771d3bc6c150054e9839a714d038f9e349eb6984246b50653f4883bd59734"
  },
  "kernelspec": {
   "display_name": "Python 3.6.10 ('py_36')",
   "language": "python",
   "name": "python3"
  },
  "language_info": {
   "codemirror_mode": {
    "name": "ipython",
    "version": 3
   },
   "file_extension": ".py",
   "mimetype": "text/x-python",
   "name": "python",
   "nbconvert_exporter": "python",
   "pygments_lexer": "ipython3",
   "version": "3.6.10"
  },
  "orig_nbformat": 4
 },
 "nbformat": 4,
 "nbformat_minor": 2
}
