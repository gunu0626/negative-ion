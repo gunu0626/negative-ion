{
 "cells": [
  {
   "cell_type": "code",
   "execution_count": 2,
   "metadata": {},
   "outputs": [],
   "source": [
    "import numpy as np\n",
    "\n",
    "#### Experimental setup ####\n",
    "\n",
    "f = 1e3 # Driving freq [Hz]\n",
    "omega = 2*np.pi*f\n",
    "L_coil = 15341e-6 # coil inductance [H]\n",
    "#L_coil = 1e-3\n",
    "R_coil = 1 # coil resistance [Ohm]"
   ]
  },
  {
   "cell_type": "code",
   "execution_count": 7,
   "metadata": {},
   "outputs": [
    {
     "name": "stdout",
     "output_type": "stream",
     "text": [
      "Max voltage to coil : 1234\n"
     ]
    }
   ],
   "source": [
    "## Direct Drive Method with Series coil connection ##\n",
    "\n",
    "I_coil = 6.4 # coil current [A] 6.4A -> 50G\n",
    "V_coil = I_coil*np.sqrt((omega*(2*L_coil))**2 + (2*R_coil)**2)\n",
    "print('Max voltage to coil : {:.0f}'.format(V_coil))"
   ]
  },
  {
   "cell_type": "code",
   "execution_count": 8,
   "metadata": {},
   "outputs": [
    {
     "name": "stdout",
     "output_type": "stream",
     "text": [
      "Needed capacitor : 8.26e-07 [F]\n",
      "Max voltage to capacitor : 1234 [V]\n"
     ]
    }
   ],
   "source": [
    "## Series Resonant Method with Series capacitor connection ##\n",
    "\n",
    "C_s = 1/(2*np.pi*f)**2/(2*L_coil)\n",
    "\n",
    "print('Needed capacitor : {:.2e} [F]'.format(C_s))\n",
    "print('Max voltage to capacitor : {:.0f} [V]'.format(I_coil/(omega*C_s)))"
   ]
  },
  {
   "cell_type": "code",
   "execution_count": 9,
   "metadata": {},
   "outputs": [
    {
     "data": {
      "text/plain": [
       "192.78069159488405"
      ]
     },
     "execution_count": 9,
     "metadata": {},
     "output_type": "execute_result"
    }
   ],
   "source": [
    "2*np.pi*f*2*L_coil"
   ]
  },
  {
   "cell_type": "code",
   "execution_count": null,
   "metadata": {},
   "outputs": [],
   "source": []
  }
 ],
 "metadata": {
  "interpreter": {
   "hash": "4c310b10a5ac6204327519a0c0c4dc05e810a8fde8d7c83dde02b08af00fc21b"
  },
  "kernelspec": {
   "display_name": "Python 3.8.11 64-bit ('pyrl': conda)",
   "language": "python",
   "name": "python3"
  },
  "language_info": {
   "codemirror_mode": {
    "name": "ipython",
    "version": 3
   },
   "file_extension": ".py",
   "mimetype": "text/x-python",
   "name": "python",
   "nbconvert_exporter": "python",
   "pygments_lexer": "ipython3",
   "version": "3.8.12"
  },
  "orig_nbformat": 4
 },
 "nbformat": 4,
 "nbformat_minor": 2
}
