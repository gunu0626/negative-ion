{
 "cells": [
  {
   "cell_type": "code",
   "execution_count": 1,
   "id": "338cefcb-4a9a-4f13-9e33-a46b6b0757dc",
   "metadata": {},
   "outputs": [],
   "source": [
    "from scipy.misc import derivative\n",
    "from scipy.integrate import simpson\n",
    "from const import *\n",
    "import ldfparser\n",
    "import numpy as np\n",
    "import matplotlib.pyplot as plt"
   ]
  },
  {
   "cell_type": "code",
   "execution_count": 43,
   "id": "c385c0ea-47c3-4f26-970d-a2225c7b8ce7",
   "metadata": {},
   "outputs": [],
   "source": [
    "def cal_Vp(IV_df):\n",
    "    V = np.array(IV_df['V'])\n",
    "    I = np.array(IV_df['I'])\n",
    "    dIdV = np.gradient(I, V)\n",
    "    Vp = V[np.argmax(dIdV)]\n",
    "    return Vp\n",
    "\n",
    "def cal_eedf(IV_df):\n",
    "    Vp = cal_Vp(IV_df)\n",
    "    V = np.array(IV_df['V'])\n",
    "    I = np.array(IV_df['I'])\n",
    "    dIdV = np.gradient(I, V)\n",
    "    dIdV2 = np.gradient(dIdV, V)\n",
    "    eedf = 2*dIdV2/e/Ap*np.sqrt(2*Me*abs(V-Vp)/e)\n",
    "    return eedf"
   ]
  },
  {
   "cell_type": "code",
   "execution_count": 44,
   "id": "037ac088-ce83-4779-bf6c-c66043d2c295",
   "metadata": {},
   "outputs": [
    {
     "name": "stdout",
     "output_type": "stream",
     "text": [
      "./211216(SF6)/bias (float) 56mm B-field/100.ldf\n",
      "./211216(SF6)/bias (float) 56mm B-field/110.ldf\n",
      "./211216(SF6)/bias (float) 56mm B-field/120.ldf\n",
      "./211216(SF6)/bias (float) 56mm B-field/130.ldf\n",
      "./211216(SF6)/bias (float) 56mm B-field/135.ldf\n",
      "./211216(SF6)/bias (float) 56mm B-field/40.ldf\n",
      "./211216(SF6)/bias (float) 56mm B-field/50.ldf\n",
      "./211216(SF6)/bias (float) 56mm B-field/60.ldf\n",
      "./211216(SF6)/bias (float) 56mm B-field/70.ldf\n",
      "./211216(SF6)/bias (float) 56mm B-field/80.ldf\n",
      "./211216(SF6)/bias (float) 56mm B-field/90.ldf\n"
     ]
    }
   ],
   "source": [
    "workDir = './211216(SF6)/bias (float) 56mm B-field/'\n",
    "parser = ldfparser.LDF(workDir)\n",
    "ldf_files = parser.ldf_paths()\n",
    "for file in ldf_files:\n",
    "    IV, eedf, result = parser.pull_attr(file, need_return=True)\n",
    "    Vp = cal_Vp(IV)\n",
    "    eedf = cal_eedf(IV)\n",
    "    print(file)\n",
    "    "
   ]
  },
  {
   "cell_type": "code",
   "execution_count": 45,
   "id": "9d81380e-9ba6-4ef6-a716-a6d044d15fac",
   "metadata": {},
   "outputs": [],
   "source": [
    "V = np.array(IV['V'])"
   ]
  },
  {
   "cell_type": "code",
   "execution_count": 50,
   "id": "6a24717e-f490-45a9-a40f-110788153d86",
   "metadata": {},
   "outputs": [
    {
     "data": {
      "text/plain": [
       "(0.0, 42.503495)"
      ]
     },
     "execution_count": 50,
     "metadata": {},
     "output_type": "execute_result"
    },
    {
     "data": {
      "image/png": "[encoded data removed]",
      "text/plain": [
       "<Figure size 432x288 with 1 Axes>"
      ]
     },
     "metadata": {
      "needs_background": "light"
     },
     "output_type": "display_data"
    }
   ],
   "source": [
    "plt.plot(V+Vp, eedf)\n",
    "plt.yscale('log')\n",
    "plt.xlim(0,)"
   ]
  },
  {
   "cell_type": "code",
   "execution_count": 11,
   "id": "7f79b5c7-ea9c-426a-817a-992fe32c5cee",
   "metadata": {},
   "outputs": [],
   "source": [
    "dIdV = np.gradient(I,V)\n",
    "Vp = V[np.argmax(dIdV)]\n",
    "Vsat = -V[0] # 양수로 바꿈\n",
    "Isat = -I[0] # 양수로 바꿈"
   ]
  },
  {
   "cell_type": "code",
   "execution_count": 13,
   "id": "d0667050-3a60-4048-92eb-4b25372bd10c",
   "metadata": {},
   "outputs": [
    {
     "name": "stdout",
     "output_type": "stream",
     "text": [
      "4.73516\n"
     ]
    },
    {
     "data": {
      "image/png": "[encoded data removed]",
      "text/plain": [
       "<Figure size 432x288 with 1 Axes>"
      ]
     },
     "metadata": {
      "needs_background": "light"
     },
     "output_type": "display_data"
    }
   ],
   "source": [
    "plt.plot(V,dIdV)\n",
    "print(V[np.argmax(dIdV)])"
   ]
  },
  {
   "cell_type": "code",
   "execution_count": 54,
   "id": "0ef97d6f-2ebf-4aff-b220-124c04efaa48",
   "metadata": {},
   "outputs": [
    {
     "data": {
      "text/plain": [
       "array([-41.8833  , -41.0961  , -40.3122  , -39.5291  , -38.7487  ,\n",
       "       -37.9718  , -37.1975  , -36.4286  , -35.6584  , -34.8937  ,\n",
       "       -34.1241  , -33.3573  , -32.5942  , -31.8402  , -31.0862  ,\n",
       "       -30.3341  , -29.5893  , -28.8435  , -28.103   , -27.365   ,\n",
       "       -26.6277  , -25.8902  , -25.1548  , -24.4214  , -23.6958  ,\n",
       "       -22.9716  , -22.2486  , -21.5329  , -20.815   , -20.0971  ,\n",
       "       -19.3839  , -18.6721  , -17.9635  , -17.2578  , -16.5543  ,\n",
       "       -15.8537  , -15.157   , -14.4627  , -13.7648  , -13.0694  ,\n",
       "       -12.3698  , -11.6788  , -10.9942  , -10.3108  ,  -9.63041 ,\n",
       "        -8.95241 ,  -8.27586 ,  -7.60016 ,  -6.9284  ,  -6.25963 ,\n",
       "        -5.59271 ,  -4.93122 ,  -4.26506 ,  -3.60451 ,  -2.94488 ,\n",
       "        -2.28846 ,  -1.63796 ,  -0.9898  ,  -0.343015,   0.298606,\n",
       "         0.940121,   1.57808 ,   2.21413 ,   2.84792 ,   3.47852 ,\n",
       "         4.10727 ,   4.73516 ,   5.36231 ,   5.98582 ,   6.6091  ,\n",
       "         7.23162 ,   7.8492  ,   8.46798 ,   9.08922 ,   9.70791 ,\n",
       "        10.3292  ,  10.9514  ,  11.5699  ,  12.1852  ,  12.7966  ,\n",
       "        13.4066  ,  14.0134  ,  14.619   ,  15.2233  ,  15.8257  ,\n",
       "        16.4297  ,  17.0308  ,  17.6276  ,  18.2309  ,  18.829   ,\n",
       "        19.4243  ,  20.0198  ,  20.613   ,  21.2064  ,  21.7967  ,\n",
       "        22.3899  ,  22.9819  ,  23.569   ,  24.1567  ,  24.7437  ,\n",
       "        25.3278  ,  25.91    ,  26.4916  ,  27.0728  ,  27.6505  ,\n",
       "        28.2272  ,  28.8059  ,  29.3801  ,  29.9551  ,  30.5274  ,\n",
       "        31.1025  ,  31.6798  ,  32.2582  ,  32.8319  ,  33.4035  ,\n",
       "        33.9754  ])"
      ]
     },
     "execution_count": 54,
     "metadata": {},
     "output_type": "execute_result"
    }
   ],
   "source": [
    "V"
   ]
  },
  {
   "cell_type": "code",
   "execution_count": 24,
   "id": "d8383e8f-d1ce-41ca-8f58-6d5614701f03",
   "metadata": {},
   "outputs": [
    {
     "data": {
      "text/plain": [
       "[<matplotlib.lines.Line2D at 0x2b004cdd100>]"
      ]
     },
     "execution_count": 24,
     "metadata": {},
     "output_type": "execute_result"
    },
    {
     "data": {
      "image/png": "[encoded data removed]",
      "text/plain": [
       "<Figure size 432x288 with 1 Axes>"
      ]
     },
     "metadata": {
      "needs_background": "light"
     },
     "output_type": "display_data"
    }
   ],
   "source": [
    "plt.plot(V,dIdV2)"
   ]
  },
  {
   "cell_type": "code",
   "execution_count": 20,
   "id": "09c10cc6-f12f-44c8-bb9b-b49285797eb8",
   "metadata": {},
   "outputs": [
    {
     "data": {
      "text/plain": [
       "0.0011901453816335478"
      ]
     },
     "execution_count": 20,
     "metadata": {},
     "output_type": "execute_result"
    }
   ],
   "source": [
    "dIdV[66]"
   ]
  },
  {
   "cell_type": "code",
   "execution_count": 22,
   "id": "347112db-d688-4958-901a-b2cc6016526c",
   "metadata": {},
   "outputs": [
    {
     "data": {
      "text/plain": [
       "4.73516"
      ]
     },
     "execution_count": 22,
     "metadata": {},
     "output_type": "execute_result"
    }
   ],
   "source": []
  },
  {
   "cell_type": "code",
   "execution_count": null,
   "id": "6ce4fb18-a291-4798-87b2-0c15ff9686a5",
   "metadata": {},
   "outputs": [],
   "source": [
    "def f(x):\n",
    "    return x**3 + x**2\n",
    "derivative(f, 1.0, dx=1e-6)"
   ]
  }
 ],
 "metadata": {
  "kernelspec": {
   "display_name": "Python 3 (ipykernel)",
   "language": "python",
   "name": "python3"
  },
  "language_info": {
   "codemirror_mode": {
    "name": "ipython",
    "version": 3
   },
   "file_extension": ".py",
   "mimetype": "text/x-python",
   "name": "python",
   "nbconvert_exporter": "python",
   "pygments_lexer": "ipython3",
   "version": "3.8.12"
  }
 },
 "nbformat": 4,
 "nbformat_minor": 5
}
